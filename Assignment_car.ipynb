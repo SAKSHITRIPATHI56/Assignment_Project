{
 "cells": [
  {
   "cell_type": "markdown",
   "id": "ef2b7efc",
   "metadata": {},
   "source": [
    "### Assignment on DATA SET ,EXPLANATORY ANALYSIS, MODEL DATA using ALGORITHM"
   ]
  },
  {
   "cell_type": "markdown",
   "id": "0f79cccf",
   "metadata": {},
   "source": [
    "### CAR  PRICE"
   ]
  },
  {
   "cell_type": "code",
   "execution_count": 1,
   "id": "d498d0e2",
   "metadata": {},
   "outputs": [],
   "source": [
    "import numpy as np\n",
    "import pandas as pd\n",
    "import seaborn as sns\n",
    "import matplotlib.pyplot as plt\n",
    "import warnings\n",
    "warnings.filterwarnings('ignore')"
   ]
  },
  {
   "cell_type": "code",
   "execution_count": 2,
   "id": "7282fb7f",
   "metadata": {},
   "outputs": [],
   "source": [
    "data=pd.read_csv('car_price_data2.csv')"
   ]
  },
  {
   "cell_type": "code",
   "execution_count": 3,
   "id": "3782138a",
   "metadata": {},
   "outputs": [
    {
     "data": {
      "text/html": [
       "<div>\n",
       "<style scoped>\n",
       "    .dataframe tbody tr th:only-of-type {\n",
       "        vertical-align: middle;\n",
       "    }\n",
       "\n",
       "    .dataframe tbody tr th {\n",
       "        vertical-align: top;\n",
       "    }\n",
       "\n",
       "    .dataframe thead th {\n",
       "        text-align: right;\n",
       "    }\n",
       "</style>\n",
       "<table border=\"1\" class=\"dataframe\">\n",
       "  <thead>\n",
       "    <tr style=\"text-align: right;\">\n",
       "      <th></th>\n",
       "      <th>Car_Name</th>\n",
       "      <th>Year</th>\n",
       "      <th>Selling_Price</th>\n",
       "      <th>Present_Price</th>\n",
       "      <th>Kms_Driven</th>\n",
       "      <th>Fuel_Type</th>\n",
       "      <th>Seller_Type</th>\n",
       "      <th>Transmission</th>\n",
       "      <th>Owner</th>\n",
       "    </tr>\n",
       "  </thead>\n",
       "  <tbody>\n",
       "    <tr>\n",
       "      <th>0</th>\n",
       "      <td>ritz</td>\n",
       "      <td>2014</td>\n",
       "      <td>3.35</td>\n",
       "      <td>5.59</td>\n",
       "      <td>27000</td>\n",
       "      <td>Petrol</td>\n",
       "      <td>Dealer</td>\n",
       "      <td>Manual</td>\n",
       "      <td>0</td>\n",
       "    </tr>\n",
       "    <tr>\n",
       "      <th>1</th>\n",
       "      <td>sx4</td>\n",
       "      <td>2013</td>\n",
       "      <td>4.75</td>\n",
       "      <td>9.54</td>\n",
       "      <td>43000</td>\n",
       "      <td>Diesel</td>\n",
       "      <td>Dealer</td>\n",
       "      <td>Manual</td>\n",
       "      <td>0</td>\n",
       "    </tr>\n",
       "    <tr>\n",
       "      <th>2</th>\n",
       "      <td>ciaz</td>\n",
       "      <td>2017</td>\n",
       "      <td>7.25</td>\n",
       "      <td>9.85</td>\n",
       "      <td>6900</td>\n",
       "      <td>Petrol</td>\n",
       "      <td>Dealer</td>\n",
       "      <td>Manual</td>\n",
       "      <td>0</td>\n",
       "    </tr>\n",
       "    <tr>\n",
       "      <th>3</th>\n",
       "      <td>wagon r</td>\n",
       "      <td>2011</td>\n",
       "      <td>2.85</td>\n",
       "      <td>4.15</td>\n",
       "      <td>5200</td>\n",
       "      <td>Petrol</td>\n",
       "      <td>Dealer</td>\n",
       "      <td>Manual</td>\n",
       "      <td>0</td>\n",
       "    </tr>\n",
       "    <tr>\n",
       "      <th>4</th>\n",
       "      <td>swift</td>\n",
       "      <td>2014</td>\n",
       "      <td>4.60</td>\n",
       "      <td>6.87</td>\n",
       "      <td>42450</td>\n",
       "      <td>Diesel</td>\n",
       "      <td>Dealer</td>\n",
       "      <td>Manual</td>\n",
       "      <td>0</td>\n",
       "    </tr>\n",
       "  </tbody>\n",
       "</table>\n",
       "</div>"
      ],
      "text/plain": [
       "  Car_Name  Year  Selling_Price  Present_Price  Kms_Driven Fuel_Type  \\\n",
       "0     ritz  2014           3.35           5.59       27000    Petrol   \n",
       "1      sx4  2013           4.75           9.54       43000    Diesel   \n",
       "2     ciaz  2017           7.25           9.85        6900    Petrol   \n",
       "3  wagon r  2011           2.85           4.15        5200    Petrol   \n",
       "4    swift  2014           4.60           6.87       42450    Diesel   \n",
       "\n",
       "  Seller_Type Transmission  Owner  \n",
       "0      Dealer       Manual      0  \n",
       "1      Dealer       Manual      0  \n",
       "2      Dealer       Manual      0  \n",
       "3      Dealer       Manual      0  \n",
       "4      Dealer       Manual      0  "
      ]
     },
     "execution_count": 3,
     "metadata": {},
     "output_type": "execute_result"
    }
   ],
   "source": [
    "data.head()"
   ]
  },
  {
   "cell_type": "code",
   "execution_count": 4,
   "id": "2ebd1278",
   "metadata": {},
   "outputs": [
    {
     "data": {
      "text/html": [
       "<div>\n",
       "<style scoped>\n",
       "    .dataframe tbody tr th:only-of-type {\n",
       "        vertical-align: middle;\n",
       "    }\n",
       "\n",
       "    .dataframe tbody tr th {\n",
       "        vertical-align: top;\n",
       "    }\n",
       "\n",
       "    .dataframe thead th {\n",
       "        text-align: right;\n",
       "    }\n",
       "</style>\n",
       "<table border=\"1\" class=\"dataframe\">\n",
       "  <thead>\n",
       "    <tr style=\"text-align: right;\">\n",
       "      <th></th>\n",
       "      <th>Year</th>\n",
       "      <th>Selling_Price</th>\n",
       "      <th>Present_Price</th>\n",
       "      <th>Kms_Driven</th>\n",
       "      <th>Owner</th>\n",
       "    </tr>\n",
       "  </thead>\n",
       "  <tbody>\n",
       "    <tr>\n",
       "      <th>count</th>\n",
       "      <td>301.000000</td>\n",
       "      <td>301.000000</td>\n",
       "      <td>301.000000</td>\n",
       "      <td>301.000000</td>\n",
       "      <td>301.000000</td>\n",
       "    </tr>\n",
       "    <tr>\n",
       "      <th>mean</th>\n",
       "      <td>2013.627907</td>\n",
       "      <td>4.661296</td>\n",
       "      <td>7.628472</td>\n",
       "      <td>36947.205980</td>\n",
       "      <td>0.043189</td>\n",
       "    </tr>\n",
       "    <tr>\n",
       "      <th>std</th>\n",
       "      <td>2.891554</td>\n",
       "      <td>5.082812</td>\n",
       "      <td>8.644115</td>\n",
       "      <td>38886.883882</td>\n",
       "      <td>0.247915</td>\n",
       "    </tr>\n",
       "    <tr>\n",
       "      <th>min</th>\n",
       "      <td>2003.000000</td>\n",
       "      <td>0.100000</td>\n",
       "      <td>0.320000</td>\n",
       "      <td>500.000000</td>\n",
       "      <td>0.000000</td>\n",
       "    </tr>\n",
       "    <tr>\n",
       "      <th>25%</th>\n",
       "      <td>2012.000000</td>\n",
       "      <td>0.900000</td>\n",
       "      <td>1.200000</td>\n",
       "      <td>15000.000000</td>\n",
       "      <td>0.000000</td>\n",
       "    </tr>\n",
       "    <tr>\n",
       "      <th>50%</th>\n",
       "      <td>2014.000000</td>\n",
       "      <td>3.600000</td>\n",
       "      <td>6.400000</td>\n",
       "      <td>32000.000000</td>\n",
       "      <td>0.000000</td>\n",
       "    </tr>\n",
       "    <tr>\n",
       "      <th>75%</th>\n",
       "      <td>2016.000000</td>\n",
       "      <td>6.000000</td>\n",
       "      <td>9.900000</td>\n",
       "      <td>48767.000000</td>\n",
       "      <td>0.000000</td>\n",
       "    </tr>\n",
       "    <tr>\n",
       "      <th>max</th>\n",
       "      <td>2018.000000</td>\n",
       "      <td>35.000000</td>\n",
       "      <td>92.600000</td>\n",
       "      <td>500000.000000</td>\n",
       "      <td>3.000000</td>\n",
       "    </tr>\n",
       "  </tbody>\n",
       "</table>\n",
       "</div>"
      ],
      "text/plain": [
       "              Year  Selling_Price  Present_Price     Kms_Driven       Owner\n",
       "count   301.000000     301.000000     301.000000     301.000000  301.000000\n",
       "mean   2013.627907       4.661296       7.628472   36947.205980    0.043189\n",
       "std       2.891554       5.082812       8.644115   38886.883882    0.247915\n",
       "min    2003.000000       0.100000       0.320000     500.000000    0.000000\n",
       "25%    2012.000000       0.900000       1.200000   15000.000000    0.000000\n",
       "50%    2014.000000       3.600000       6.400000   32000.000000    0.000000\n",
       "75%    2016.000000       6.000000       9.900000   48767.000000    0.000000\n",
       "max    2018.000000      35.000000      92.600000  500000.000000    3.000000"
      ]
     },
     "execution_count": 4,
     "metadata": {},
     "output_type": "execute_result"
    }
   ],
   "source": [
    "data.describe()"
   ]
  },
  {
   "cell_type": "code",
   "execution_count": 5,
   "id": "54bdf98c",
   "metadata": {},
   "outputs": [
    {
     "data": {
      "text/plain": [
       "(301, 9)"
      ]
     },
     "execution_count": 5,
     "metadata": {},
     "output_type": "execute_result"
    }
   ],
   "source": [
    "data.shape"
   ]
  },
  {
   "cell_type": "code",
   "execution_count": 6,
   "id": "19e414c1",
   "metadata": {},
   "outputs": [
    {
     "data": {
      "text/plain": [
       "Index(['Car_Name', 'Year', 'Selling_Price', 'Present_Price', 'Kms_Driven',\n",
       "       'Fuel_Type', 'Seller_Type', 'Transmission', 'Owner'],\n",
       "      dtype='object')"
      ]
     },
     "execution_count": 6,
     "metadata": {},
     "output_type": "execute_result"
    }
   ],
   "source": [
    "data.columns"
   ]
  },
  {
   "cell_type": "code",
   "execution_count": 7,
   "id": "3df33c04",
   "metadata": {},
   "outputs": [
    {
     "data": {
      "text/plain": [
       "Index(['Car_Name', 'Year', 'Selling_Price', 'Present_Price', 'Kms_Driven',\n",
       "       'Fuel_Type', 'Seller_Type', 'Transmission', 'Owner'],\n",
       "      dtype='object')"
      ]
     },
     "execution_count": 7,
     "metadata": {},
     "output_type": "execute_result"
    }
   ],
   "source": [
    "data.keys()"
   ]
  },
  {
   "cell_type": "code",
   "execution_count": 8,
   "id": "c4e6fef7",
   "metadata": {},
   "outputs": [
    {
     "data": {
      "text/plain": [
       "<bound method DataFrame.info of     Car_Name  Year  Selling_Price  Present_Price  Kms_Driven Fuel_Type  \\\n",
       "0       ritz  2014           3.35           5.59       27000    Petrol   \n",
       "1        sx4  2013           4.75           9.54       43000    Diesel   \n",
       "2       ciaz  2017           7.25           9.85        6900    Petrol   \n",
       "3    wagon r  2011           2.85           4.15        5200    Petrol   \n",
       "4      swift  2014           4.60           6.87       42450    Diesel   \n",
       "..       ...   ...            ...            ...         ...       ...   \n",
       "296     city  2016           9.50          11.60       33988    Diesel   \n",
       "297     brio  2015           4.00           5.90       60000    Petrol   \n",
       "298     city  2009           3.35          11.00       87934    Petrol   \n",
       "299     city  2017          11.50          12.50        9000    Diesel   \n",
       "300     brio  2016           5.30           5.90        5464    Petrol   \n",
       "\n",
       "    Seller_Type Transmission  Owner  \n",
       "0        Dealer       Manual      0  \n",
       "1        Dealer       Manual      0  \n",
       "2        Dealer       Manual      0  \n",
       "3        Dealer       Manual      0  \n",
       "4        Dealer       Manual      0  \n",
       "..          ...          ...    ...  \n",
       "296      Dealer       Manual      0  \n",
       "297      Dealer       Manual      0  \n",
       "298      Dealer       Manual      0  \n",
       "299      Dealer       Manual      0  \n",
       "300      Dealer       Manual      0  \n",
       "\n",
       "[301 rows x 9 columns]>"
      ]
     },
     "execution_count": 8,
     "metadata": {},
     "output_type": "execute_result"
    }
   ],
   "source": [
    "data.info"
   ]
  },
  {
   "cell_type": "code",
   "execution_count": 9,
   "id": "7f203088",
   "metadata": {},
   "outputs": [
    {
     "data": {
      "text/plain": [
       "Car_Name         0\n",
       "Year             0\n",
       "Selling_Price    0\n",
       "Present_Price    0\n",
       "Kms_Driven       0\n",
       "Fuel_Type        0\n",
       "Seller_Type      0\n",
       "Transmission     0\n",
       "Owner            0\n",
       "dtype: int64"
      ]
     },
     "execution_count": 9,
     "metadata": {},
     "output_type": "execute_result"
    }
   ],
   "source": [
    "data.isnull().sum()"
   ]
  },
  {
   "cell_type": "markdown",
   "id": "60f15395",
   "metadata": {},
   "source": [
    "### MATPLOT"
   ]
  },
  {
   "cell_type": "markdown",
   "id": "2463e273",
   "metadata": {},
   "source": [
    "### PLOT"
   ]
  },
  {
   "cell_type": "code",
   "execution_count": 10,
   "id": "2f088ac1",
   "metadata": {},
   "outputs": [
    {
     "data": {
      "text/plain": [
       "[<matplotlib.lines.Line2D at 0x1e9f1de7e20>]"
      ]
     },
     "execution_count": 10,
     "metadata": {},
     "output_type": "execute_result"
    },
    {
     "data": {
      "image/png": "[encoded data removed]",
      "text/plain": [
       "<Figure size 432x288 with 1 Axes>"
      ]
     },
     "metadata": {
      "needs_background": "light"
     },
     "output_type": "display_data"
    }
   ],
   "source": [
    "plt.plot([1,2,3],[4,5,6])"
   ]
  },
  {
   "cell_type": "code",
   "execution_count": 11,
   "id": "875532a6",
   "metadata": {},
   "outputs": [
    {
     "data": {
      "image/png": "[encoded data removed]",
      "text/plain": [
       "<Figure size 432x288 with 1 Axes>"
      ]
     },
     "metadata": {
      "needs_background": "light"
     },
     "output_type": "display_data"
    }
   ],
   "source": [
    "plt.plot([1,2,3],[4,5,6],color='g')\n",
    "plt.title(\"Basic\")\n",
    "plt.ylabel('Yaxis')\n",
    "plt.xlabel('Xaxis')\n",
    "plt.show()"
   ]
  },
  {
   "cell_type": "code",
   "execution_count": 12,
   "id": "628feaa3",
   "metadata": {},
   "outputs": [
    {
     "data": {
      "text/plain": [
       "<BarContainer object of 301 artists>"
      ]
     },
     "execution_count": 12,
     "metadata": {},
     "output_type": "execute_result"
    },
    {
     "data": {
      "image/png": "[encoded data removed]",
      "text/plain": [
       "<Figure size 432x288 with 1 Axes>"
      ]
     },
     "metadata": {
      "needs_background": "light"
     },
     "output_type": "display_data"
    }
   ],
   "source": [
    "plt.bar(data['Selling_Price'],data['Owner'],color='b')"
   ]
  },
  {
   "cell_type": "markdown",
   "id": "dea33d46",
   "metadata": {},
   "source": [
    "### HISTOGRAM"
   ]
  },
  {
   "cell_type": "code",
   "execution_count": 13,
   "id": "49215df9",
   "metadata": {},
   "outputs": [
    {
     "data": {
      "text/plain": [
       "(array([150.,  91.,  34.,   9.,   6.,   5.,   4.,   0.,   0.,   2.]),\n",
       " array([ 0.1 ,  3.59,  7.08, 10.57, 14.06, 17.55, 21.04, 24.53, 28.02,\n",
       "        31.51, 35.  ]),\n",
       " <BarContainer object of 10 artists>)"
      ]
     },
     "execution_count": 13,
     "metadata": {},
     "output_type": "execute_result"
    },
    {
     "data": {
      "image/png": "[encoded data removed]",
      "text/plain": [
       "<Figure size 432x288 with 1 Axes>"
      ]
     },
     "metadata": {
      "needs_background": "light"
     },
     "output_type": "display_data"
    }
   ],
   "source": [
    "plt.hist(data['Selling_Price'],color='r')"
   ]
  },
  {
   "cell_type": "code",
   "execution_count": 14,
   "id": "638e9e3f",
   "metadata": {},
   "outputs": [
    {
     "data": {
      "text/plain": [
       "(array([290.,   0.,   0.,  10.,   0.,   0.,   0.,   0.,   0.,   1.]),\n",
       " array([0. , 0.3, 0.6, 0.9, 1.2, 1.5, 1.8, 2.1, 2.4, 2.7, 3. ]),\n",
       " <BarContainer object of 10 artists>)"
      ]
     },
     "execution_count": 14,
     "metadata": {},
     "output_type": "execute_result"
    },
    {
     "data": {
      "image/png": "[encoded data removed]",
      "text/plain": [
       "<Figure size 432x288 with 1 Axes>"
      ]
     },
     "metadata": {
      "needs_background": "light"
     },
     "output_type": "display_data"
    }
   ],
   "source": [
    "plt.hist(data['Owner'])"
   ]
  },
  {
   "cell_type": "markdown",
   "id": "4b0146ea",
   "metadata": {},
   "source": [
    "### SCATTERPLOT"
   ]
  },
  {
   "cell_type": "code",
   "execution_count": 15,
   "id": "4050a108",
   "metadata": {},
   "outputs": [
    {
     "data": {
      "image/png": "[encoded data removed]",
      "text/plain": [
       "<Figure size 432x288 with 1 Axes>"
      ]
     },
     "metadata": {
      "needs_background": "light"
     },
     "output_type": "display_data"
    }
   ],
   "source": [
    "plt.scatter(data['Owner'],data['Kms_Driven'],color='g')\n",
    "plt.show()"
   ]
  },
  {
   "cell_type": "code",
   "execution_count": 16,
   "id": "ef2846da",
   "metadata": {},
   "outputs": [
    {
     "data": {
      "image/png": "[encoded data removed]",
      "text/plain": [
       "<Figure size 432x288 with 1 Axes>"
      ]
     },
     "metadata": {
      "needs_background": "light"
     },
     "output_type": "display_data"
    }
   ],
   "source": [
    "plt.scatter(data['Year'],data['Selling_Price'])\n",
    "plt.show()"
   ]
  },
  {
   "cell_type": "code",
   "execution_count": 17,
   "id": "76a21855",
   "metadata": {},
   "outputs": [
    {
     "data": {
      "image/png": "[encoded data removed]",
      "text/plain": [
       "<Figure size 432x288 with 1 Axes>"
      ]
     },
     "metadata": {
      "needs_background": "light"
     },
     "output_type": "display_data"
    }
   ],
   "source": [
    "plt.scatter(data['Car_Name'],data['Present_Price'])\n",
    "plt.show()"
   ]
  },
  {
   "cell_type": "markdown",
   "id": "a69d1712",
   "metadata": {},
   "source": [
    "### SEABORN"
   ]
  },
  {
   "cell_type": "markdown",
   "id": "81f89f64",
   "metadata": {},
   "source": [
    "### HEATMAP"
   ]
  },
  {
   "cell_type": "code",
   "execution_count": 18,
   "id": "823ace54",
   "metadata": {},
   "outputs": [
    {
     "data": {
      "text/plain": [
       "<AxesSubplot:>"
      ]
     },
     "execution_count": 18,
     "metadata": {},
     "output_type": "execute_result"
    },
    {
     "data": {
      "image/png": "[encoded data removed]",
      "text/plain": [
       "<Figure size 432x288 with 2 Axes>"
      ]
     },
     "metadata": {
      "needs_background": "light"
     },
     "output_type": "display_data"
    }
   ],
   "source": [
    "sns.heatmap(data.isnull())"
   ]
  },
  {
   "cell_type": "markdown",
   "id": "10f0d3aa",
   "metadata": {},
   "source": [
    "### COUNTPLOT"
   ]
  },
  {
   "cell_type": "code",
   "execution_count": 19,
   "id": "809748cc",
   "metadata": {},
   "outputs": [
    {
     "data": {
      "text/plain": [
       "<AxesSubplot:xlabel='Car_Name', ylabel='count'>"
      ]
     },
     "execution_count": 19,
     "metadata": {},
     "output_type": "execute_result"
    },
    {
     "data": {
      "image/png": "[encoded data removed]",
      "text/plain": [
       "<Figure size 432x288 with 1 Axes>"
      ]
     },
     "metadata": {
      "needs_background": "light"
     },
     "output_type": "display_data"
    }
   ],
   "source": [
    "sns.countplot( x='Car_Name',hue='Owner',data = data)"
   ]
  },
  {
   "cell_type": "markdown",
   "id": "5fd43ace",
   "metadata": {},
   "source": [
    "### DISTPLOT"
   ]
  },
  {
   "cell_type": "code",
   "execution_count": 20,
   "id": "0a060df2",
   "metadata": {},
   "outputs": [
    {
     "data": {
      "text/plain": [
       "<AxesSubplot:xlabel='Present_Price', ylabel='Density'>"
      ]
     },
     "execution_count": 20,
     "metadata": {},
     "output_type": "execute_result"
    },
    {
     "data": {
      "image/png": "[encoded data removed]",
      "text/plain": [
       "<Figure size 432x288 with 1 Axes>"
      ]
     },
     "metadata": {
      "needs_background": "light"
     },
     "output_type": "display_data"
    }
   ],
   "source": [
    "sns.distplot(data['Present_Price'])"
   ]
  },
  {
   "cell_type": "markdown",
   "id": "45a9e4bc",
   "metadata": {
    "scrolled": true
   },
   "source": [
    "### BOXPLOT"
   ]
  },
  {
   "cell_type": "code",
   "execution_count": 21,
   "id": "dff503b6",
   "metadata": {},
   "outputs": [
    {
     "data": {
      "text/plain": [
       "<AxesSubplot:xlabel='Owner', ylabel='Present_Price'>"
      ]
     },
     "execution_count": 21,
     "metadata": {},
     "output_type": "execute_result"
    },
    {
     "data": {
      "image/png": "[encoded data removed]",
      "text/plain": [
       "<Figure size 432x288 with 1 Axes>"
      ]
     },
     "metadata": {
      "needs_background": "light"
     },
     "output_type": "display_data"
    }
   ],
   "source": [
    "sns.boxplot(x='Owner',y='Present_Price',data=data)"
   ]
  },
  {
   "cell_type": "code",
   "execution_count": 22,
   "id": "d471a81e",
   "metadata": {},
   "outputs": [
    {
     "data": {
      "text/plain": [
       "<AxesSubplot:xlabel='Fuel_Type', ylabel='Year'>"
      ]
     },
     "execution_count": 22,
     "metadata": {},
     "output_type": "execute_result"
    },
    {
     "data": {
      "image/png": "[encoded data removed]",
      "text/plain": [
       "<Figure size 432x288 with 1 Axes>"
      ]
     },
     "metadata": {
      "needs_background": "light"
     },
     "output_type": "display_data"
    }
   ],
   "source": [
    "sns.boxplot(x='Fuel_Type',y='Year',data=data)"
   ]
  },
  {
   "cell_type": "code",
   "execution_count": 23,
   "id": "984e4ece",
   "metadata": {},
   "outputs": [],
   "source": [
    "dataset=pd.read_csv('car_price_data2.csv')"
   ]
  },
  {
   "cell_type": "code",
   "execution_count": 24,
   "id": "ae8b694d",
   "metadata": {},
   "outputs": [],
   "source": [
    "ft=pd.get_dummies(dataset['Fuel_Type'],drop_first=True)"
   ]
  },
  {
   "cell_type": "code",
   "execution_count": 25,
   "id": "ee28baeb",
   "metadata": {},
   "outputs": [
    {
     "data": {
      "text/html": [
       "<div>\n",
       "<style scoped>\n",
       "    .dataframe tbody tr th:only-of-type {\n",
       "        vertical-align: middle;\n",
       "    }\n",
       "\n",
       "    .dataframe tbody tr th {\n",
       "        vertical-align: top;\n",
       "    }\n",
       "\n",
       "    .dataframe thead th {\n",
       "        text-align: right;\n",
       "    }\n",
       "</style>\n",
       "<table border=\"1\" class=\"dataframe\">\n",
       "  <thead>\n",
       "    <tr style=\"text-align: right;\">\n",
       "      <th></th>\n",
       "      <th>Diesel</th>\n",
       "      <th>Petrol</th>\n",
       "    </tr>\n",
       "  </thead>\n",
       "  <tbody>\n",
       "    <tr>\n",
       "      <th>0</th>\n",
       "      <td>0</td>\n",
       "      <td>1</td>\n",
       "    </tr>\n",
       "    <tr>\n",
       "      <th>1</th>\n",
       "      <td>1</td>\n",
       "      <td>0</td>\n",
       "    </tr>\n",
       "    <tr>\n",
       "      <th>2</th>\n",
       "      <td>0</td>\n",
       "      <td>1</td>\n",
       "    </tr>\n",
       "    <tr>\n",
       "      <th>3</th>\n",
       "      <td>0</td>\n",
       "      <td>1</td>\n",
       "    </tr>\n",
       "    <tr>\n",
       "      <th>4</th>\n",
       "      <td>1</td>\n",
       "      <td>0</td>\n",
       "    </tr>\n",
       "    <tr>\n",
       "      <th>...</th>\n",
       "      <td>...</td>\n",
       "      <td>...</td>\n",
       "    </tr>\n",
       "    <tr>\n",
       "      <th>296</th>\n",
       "      <td>1</td>\n",
       "      <td>0</td>\n",
       "    </tr>\n",
       "    <tr>\n",
       "      <th>297</th>\n",
       "      <td>0</td>\n",
       "      <td>1</td>\n",
       "    </tr>\n",
       "    <tr>\n",
       "      <th>298</th>\n",
       "      <td>0</td>\n",
       "      <td>1</td>\n",
       "    </tr>\n",
       "    <tr>\n",
       "      <th>299</th>\n",
       "      <td>1</td>\n",
       "      <td>0</td>\n",
       "    </tr>\n",
       "    <tr>\n",
       "      <th>300</th>\n",
       "      <td>0</td>\n",
       "      <td>1</td>\n",
       "    </tr>\n",
       "  </tbody>\n",
       "</table>\n",
       "<p>301 rows × 2 columns</p>\n",
       "</div>"
      ],
      "text/plain": [
       "     Diesel  Petrol\n",
       "0         0       1\n",
       "1         1       0\n",
       "2         0       1\n",
       "3         0       1\n",
       "4         1       0\n",
       "..      ...     ...\n",
       "296       1       0\n",
       "297       0       1\n",
       "298       0       1\n",
       "299       1       0\n",
       "300       0       1\n",
       "\n",
       "[301 rows x 2 columns]"
      ]
     },
     "execution_count": 25,
     "metadata": {},
     "output_type": "execute_result"
    }
   ],
   "source": [
    "ft"
   ]
  },
  {
   "cell_type": "code",
   "execution_count": 26,
   "id": "58b1b194",
   "metadata": {},
   "outputs": [],
   "source": [
    "own=pd.get_dummies(dataset['Owner'],drop_first=True)"
   ]
  },
  {
   "cell_type": "code",
   "execution_count": 27,
   "id": "31ed462e",
   "metadata": {},
   "outputs": [
    {
     "data": {
      "text/html": [
       "<div>\n",
       "<style scoped>\n",
       "    .dataframe tbody tr th:only-of-type {\n",
       "        vertical-align: middle;\n",
       "    }\n",
       "\n",
       "    .dataframe tbody tr th {\n",
       "        vertical-align: top;\n",
       "    }\n",
       "\n",
       "    .dataframe thead th {\n",
       "        text-align: right;\n",
       "    }\n",
       "</style>\n",
       "<table border=\"1\" class=\"dataframe\">\n",
       "  <thead>\n",
       "    <tr style=\"text-align: right;\">\n",
       "      <th></th>\n",
       "      <th>1</th>\n",
       "      <th>3</th>\n",
       "    </tr>\n",
       "  </thead>\n",
       "  <tbody>\n",
       "    <tr>\n",
       "      <th>0</th>\n",
       "      <td>0</td>\n",
       "      <td>0</td>\n",
       "    </tr>\n",
       "    <tr>\n",
       "      <th>1</th>\n",
       "      <td>0</td>\n",
       "      <td>0</td>\n",
       "    </tr>\n",
       "    <tr>\n",
       "      <th>2</th>\n",
       "      <td>0</td>\n",
       "      <td>0</td>\n",
       "    </tr>\n",
       "    <tr>\n",
       "      <th>3</th>\n",
       "      <td>0</td>\n",
       "      <td>0</td>\n",
       "    </tr>\n",
       "    <tr>\n",
       "      <th>4</th>\n",
       "      <td>0</td>\n",
       "      <td>0</td>\n",
       "    </tr>\n",
       "    <tr>\n",
       "      <th>...</th>\n",
       "      <td>...</td>\n",
       "      <td>...</td>\n",
       "    </tr>\n",
       "    <tr>\n",
       "      <th>296</th>\n",
       "      <td>0</td>\n",
       "      <td>0</td>\n",
       "    </tr>\n",
       "    <tr>\n",
       "      <th>297</th>\n",
       "      <td>0</td>\n",
       "      <td>0</td>\n",
       "    </tr>\n",
       "    <tr>\n",
       "      <th>298</th>\n",
       "      <td>0</td>\n",
       "      <td>0</td>\n",
       "    </tr>\n",
       "    <tr>\n",
       "      <th>299</th>\n",
       "      <td>0</td>\n",
       "      <td>0</td>\n",
       "    </tr>\n",
       "    <tr>\n",
       "      <th>300</th>\n",
       "      <td>0</td>\n",
       "      <td>0</td>\n",
       "    </tr>\n",
       "  </tbody>\n",
       "</table>\n",
       "<p>301 rows × 2 columns</p>\n",
       "</div>"
      ],
      "text/plain": [
       "     1  3\n",
       "0    0  0\n",
       "1    0  0\n",
       "2    0  0\n",
       "3    0  0\n",
       "4    0  0\n",
       "..  .. ..\n",
       "296  0  0\n",
       "297  0  0\n",
       "298  0  0\n",
       "299  0  0\n",
       "300  0  0\n",
       "\n",
       "[301 rows x 2 columns]"
      ]
     },
     "execution_count": 27,
     "metadata": {},
     "output_type": "execute_result"
    }
   ],
   "source": [
    "own"
   ]
  },
  {
   "cell_type": "code",
   "execution_count": 28,
   "id": "547ecb8a",
   "metadata": {},
   "outputs": [],
   "source": [
    "dataset.drop(['Owner','Fuel_Type'],axis=1,inplace=True)"
   ]
  },
  {
   "cell_type": "code",
   "execution_count": 29,
   "id": "f157ec03",
   "metadata": {},
   "outputs": [
    {
     "data": {
      "text/html": [
       "<div>\n",
       "<style scoped>\n",
       "    .dataframe tbody tr th:only-of-type {\n",
       "        vertical-align: middle;\n",
       "    }\n",
       "\n",
       "    .dataframe tbody tr th {\n",
       "        vertical-align: top;\n",
       "    }\n",
       "\n",
       "    .dataframe thead th {\n",
       "        text-align: right;\n",
       "    }\n",
       "</style>\n",
       "<table border=\"1\" class=\"dataframe\">\n",
       "  <thead>\n",
       "    <tr style=\"text-align: right;\">\n",
       "      <th></th>\n",
       "      <th>Car_Name</th>\n",
       "      <th>Year</th>\n",
       "      <th>Selling_Price</th>\n",
       "      <th>Present_Price</th>\n",
       "      <th>Kms_Driven</th>\n",
       "      <th>Seller_Type</th>\n",
       "      <th>Transmission</th>\n",
       "    </tr>\n",
       "  </thead>\n",
       "  <tbody>\n",
       "    <tr>\n",
       "      <th>0</th>\n",
       "      <td>ritz</td>\n",
       "      <td>2014</td>\n",
       "      <td>3.35</td>\n",
       "      <td>5.59</td>\n",
       "      <td>27000</td>\n",
       "      <td>Dealer</td>\n",
       "      <td>Manual</td>\n",
       "    </tr>\n",
       "    <tr>\n",
       "      <th>1</th>\n",
       "      <td>sx4</td>\n",
       "      <td>2013</td>\n",
       "      <td>4.75</td>\n",
       "      <td>9.54</td>\n",
       "      <td>43000</td>\n",
       "      <td>Dealer</td>\n",
       "      <td>Manual</td>\n",
       "    </tr>\n",
       "    <tr>\n",
       "      <th>2</th>\n",
       "      <td>ciaz</td>\n",
       "      <td>2017</td>\n",
       "      <td>7.25</td>\n",
       "      <td>9.85</td>\n",
       "      <td>6900</td>\n",
       "      <td>Dealer</td>\n",
       "      <td>Manual</td>\n",
       "    </tr>\n",
       "    <tr>\n",
       "      <th>3</th>\n",
       "      <td>wagon r</td>\n",
       "      <td>2011</td>\n",
       "      <td>2.85</td>\n",
       "      <td>4.15</td>\n",
       "      <td>5200</td>\n",
       "      <td>Dealer</td>\n",
       "      <td>Manual</td>\n",
       "    </tr>\n",
       "    <tr>\n",
       "      <th>4</th>\n",
       "      <td>swift</td>\n",
       "      <td>2014</td>\n",
       "      <td>4.60</td>\n",
       "      <td>6.87</td>\n",
       "      <td>42450</td>\n",
       "      <td>Dealer</td>\n",
       "      <td>Manual</td>\n",
       "    </tr>\n",
       "  </tbody>\n",
       "</table>\n",
       "</div>"
      ],
      "text/plain": [
       "  Car_Name  Year  Selling_Price  Present_Price  Kms_Driven Seller_Type  \\\n",
       "0     ritz  2014           3.35           5.59       27000      Dealer   \n",
       "1      sx4  2013           4.75           9.54       43000      Dealer   \n",
       "2     ciaz  2017           7.25           9.85        6900      Dealer   \n",
       "3  wagon r  2011           2.85           4.15        5200      Dealer   \n",
       "4    swift  2014           4.60           6.87       42450      Dealer   \n",
       "\n",
       "  Transmission  \n",
       "0       Manual  \n",
       "1       Manual  \n",
       "2       Manual  \n",
       "3       Manual  \n",
       "4       Manual  "
      ]
     },
     "execution_count": 29,
     "metadata": {},
     "output_type": "execute_result"
    }
   ],
   "source": [
    "dataset.head()"
   ]
  },
  {
   "cell_type": "code",
   "execution_count": 30,
   "id": "1737c8dc",
   "metadata": {},
   "outputs": [],
   "source": [
    "dataset=pd.concat([dataset,ft,own],axis=1)"
   ]
  },
  {
   "cell_type": "code",
   "execution_count": 31,
   "id": "f36e5099",
   "metadata": {},
   "outputs": [
    {
     "data": {
      "text/html": [
       "<div>\n",
       "<style scoped>\n",
       "    .dataframe tbody tr th:only-of-type {\n",
       "        vertical-align: middle;\n",
       "    }\n",
       "\n",
       "    .dataframe tbody tr th {\n",
       "        vertical-align: top;\n",
       "    }\n",
       "\n",
       "    .dataframe thead th {\n",
       "        text-align: right;\n",
       "    }\n",
       "</style>\n",
       "<table border=\"1\" class=\"dataframe\">\n",
       "  <thead>\n",
       "    <tr style=\"text-align: right;\">\n",
       "      <th></th>\n",
       "      <th>Car_Name</th>\n",
       "      <th>Year</th>\n",
       "      <th>Selling_Price</th>\n",
       "      <th>Present_Price</th>\n",
       "      <th>Kms_Driven</th>\n",
       "      <th>Seller_Type</th>\n",
       "      <th>Transmission</th>\n",
       "      <th>Diesel</th>\n",
       "      <th>Petrol</th>\n",
       "      <th>1</th>\n",
       "      <th>3</th>\n",
       "    </tr>\n",
       "  </thead>\n",
       "  <tbody>\n",
       "    <tr>\n",
       "      <th>0</th>\n",
       "      <td>ritz</td>\n",
       "      <td>2014</td>\n",
       "      <td>3.35</td>\n",
       "      <td>5.59</td>\n",
       "      <td>27000</td>\n",
       "      <td>Dealer</td>\n",
       "      <td>Manual</td>\n",
       "      <td>0</td>\n",
       "      <td>1</td>\n",
       "      <td>0</td>\n",
       "      <td>0</td>\n",
       "    </tr>\n",
       "    <tr>\n",
       "      <th>1</th>\n",
       "      <td>sx4</td>\n",
       "      <td>2013</td>\n",
       "      <td>4.75</td>\n",
       "      <td>9.54</td>\n",
       "      <td>43000</td>\n",
       "      <td>Dealer</td>\n",
       "      <td>Manual</td>\n",
       "      <td>1</td>\n",
       "      <td>0</td>\n",
       "      <td>0</td>\n",
       "      <td>0</td>\n",
       "    </tr>\n",
       "    <tr>\n",
       "      <th>2</th>\n",
       "      <td>ciaz</td>\n",
       "      <td>2017</td>\n",
       "      <td>7.25</td>\n",
       "      <td>9.85</td>\n",
       "      <td>6900</td>\n",
       "      <td>Dealer</td>\n",
       "      <td>Manual</td>\n",
       "      <td>0</td>\n",
       "      <td>1</td>\n",
       "      <td>0</td>\n",
       "      <td>0</td>\n",
       "    </tr>\n",
       "    <tr>\n",
       "      <th>3</th>\n",
       "      <td>wagon r</td>\n",
       "      <td>2011</td>\n",
       "      <td>2.85</td>\n",
       "      <td>4.15</td>\n",
       "      <td>5200</td>\n",
       "      <td>Dealer</td>\n",
       "      <td>Manual</td>\n",
       "      <td>0</td>\n",
       "      <td>1</td>\n",
       "      <td>0</td>\n",
       "      <td>0</td>\n",
       "    </tr>\n",
       "    <tr>\n",
       "      <th>4</th>\n",
       "      <td>swift</td>\n",
       "      <td>2014</td>\n",
       "      <td>4.60</td>\n",
       "      <td>6.87</td>\n",
       "      <td>42450</td>\n",
       "      <td>Dealer</td>\n",
       "      <td>Manual</td>\n",
       "      <td>1</td>\n",
       "      <td>0</td>\n",
       "      <td>0</td>\n",
       "      <td>0</td>\n",
       "    </tr>\n",
       "  </tbody>\n",
       "</table>\n",
       "</div>"
      ],
      "text/plain": [
       "  Car_Name  Year  Selling_Price  Present_Price  Kms_Driven Seller_Type  \\\n",
       "0     ritz  2014           3.35           5.59       27000      Dealer   \n",
       "1      sx4  2013           4.75           9.54       43000      Dealer   \n",
       "2     ciaz  2017           7.25           9.85        6900      Dealer   \n",
       "3  wagon r  2011           2.85           4.15        5200      Dealer   \n",
       "4    swift  2014           4.60           6.87       42450      Dealer   \n",
       "\n",
       "  Transmission  Diesel  Petrol  1  3  \n",
       "0       Manual       0       1  0  0  \n",
       "1       Manual       1       0  0  0  \n",
       "2       Manual       0       1  0  0  \n",
       "3       Manual       0       1  0  0  \n",
       "4       Manual       1       0  0  0  "
      ]
     },
     "execution_count": 31,
     "metadata": {},
     "output_type": "execute_result"
    }
   ],
   "source": [
    "dataset.head()"
   ]
  },
  {
   "cell_type": "code",
   "execution_count": 32,
   "id": "85c402c4",
   "metadata": {},
   "outputs": [],
   "source": [
    "df=pd.read_csv('car_price_data2.csv')"
   ]
  },
  {
   "cell_type": "code",
   "execution_count": 33,
   "id": "b1897e28",
   "metadata": {},
   "outputs": [],
   "source": [
    "df=df.drop(labels='Car_Name',axis=1)"
   ]
  },
  {
   "cell_type": "code",
   "execution_count": 34,
   "id": "11f308e6",
   "metadata": {},
   "outputs": [],
   "source": [
    "df['Car_age']=2021-df['Year']"
   ]
  },
  {
   "cell_type": "code",
   "execution_count": 35,
   "id": "939b3f3e",
   "metadata": {},
   "outputs": [],
   "source": [
    "df.drop(labels='Year',axis=1,inplace=True)"
   ]
  },
  {
   "cell_type": "code",
   "execution_count": 36,
   "id": "e1c619c1",
   "metadata": {},
   "outputs": [
    {
     "data": {
      "text/html": [
       "<div>\n",
       "<style scoped>\n",
       "    .dataframe tbody tr th:only-of-type {\n",
       "        vertical-align: middle;\n",
       "    }\n",
       "\n",
       "    .dataframe tbody tr th {\n",
       "        vertical-align: top;\n",
       "    }\n",
       "\n",
       "    .dataframe thead th {\n",
       "        text-align: right;\n",
       "    }\n",
       "</style>\n",
       "<table border=\"1\" class=\"dataframe\">\n",
       "  <thead>\n",
       "    <tr style=\"text-align: right;\">\n",
       "      <th></th>\n",
       "      <th>Selling_Price</th>\n",
       "      <th>Present_Price</th>\n",
       "      <th>Kms_Driven</th>\n",
       "      <th>Fuel_Type</th>\n",
       "      <th>Seller_Type</th>\n",
       "      <th>Transmission</th>\n",
       "      <th>Owner</th>\n",
       "      <th>Car_age</th>\n",
       "    </tr>\n",
       "  </thead>\n",
       "  <tbody>\n",
       "    <tr>\n",
       "      <th>0</th>\n",
       "      <td>3.35</td>\n",
       "      <td>5.59</td>\n",
       "      <td>27000</td>\n",
       "      <td>Petrol</td>\n",
       "      <td>Dealer</td>\n",
       "      <td>Manual</td>\n",
       "      <td>0</td>\n",
       "      <td>7</td>\n",
       "    </tr>\n",
       "    <tr>\n",
       "      <th>1</th>\n",
       "      <td>4.75</td>\n",
       "      <td>9.54</td>\n",
       "      <td>43000</td>\n",
       "      <td>Diesel</td>\n",
       "      <td>Dealer</td>\n",
       "      <td>Manual</td>\n",
       "      <td>0</td>\n",
       "      <td>8</td>\n",
       "    </tr>\n",
       "    <tr>\n",
       "      <th>2</th>\n",
       "      <td>7.25</td>\n",
       "      <td>9.85</td>\n",
       "      <td>6900</td>\n",
       "      <td>Petrol</td>\n",
       "      <td>Dealer</td>\n",
       "      <td>Manual</td>\n",
       "      <td>0</td>\n",
       "      <td>4</td>\n",
       "    </tr>\n",
       "    <tr>\n",
       "      <th>3</th>\n",
       "      <td>2.85</td>\n",
       "      <td>4.15</td>\n",
       "      <td>5200</td>\n",
       "      <td>Petrol</td>\n",
       "      <td>Dealer</td>\n",
       "      <td>Manual</td>\n",
       "      <td>0</td>\n",
       "      <td>10</td>\n",
       "    </tr>\n",
       "    <tr>\n",
       "      <th>4</th>\n",
       "      <td>4.60</td>\n",
       "      <td>6.87</td>\n",
       "      <td>42450</td>\n",
       "      <td>Diesel</td>\n",
       "      <td>Dealer</td>\n",
       "      <td>Manual</td>\n",
       "      <td>0</td>\n",
       "      <td>7</td>\n",
       "    </tr>\n",
       "  </tbody>\n",
       "</table>\n",
       "</div>"
      ],
      "text/plain": [
       "   Selling_Price  Present_Price  Kms_Driven Fuel_Type Seller_Type  \\\n",
       "0           3.35           5.59       27000    Petrol      Dealer   \n",
       "1           4.75           9.54       43000    Diesel      Dealer   \n",
       "2           7.25           9.85        6900    Petrol      Dealer   \n",
       "3           2.85           4.15        5200    Petrol      Dealer   \n",
       "4           4.60           6.87       42450    Diesel      Dealer   \n",
       "\n",
       "  Transmission  Owner  Car_age  \n",
       "0       Manual      0        7  \n",
       "1       Manual      0        8  \n",
       "2       Manual      0        4  \n",
       "3       Manual      0       10  \n",
       "4       Manual      0        7  "
      ]
     },
     "execution_count": 36,
     "metadata": {},
     "output_type": "execute_result"
    }
   ],
   "source": [
    "df.head()"
   ]
  },
  {
   "cell_type": "markdown",
   "id": "e2790f67",
   "metadata": {},
   "source": [
    "### Dealing with Categorical variables"
   ]
  },
  {
   "cell_type": "code",
   "execution_count": 37,
   "id": "cdecdb78",
   "metadata": {},
   "outputs": [
    {
     "data": {
      "text/plain": [
       "array(['Petrol', 'Diesel', 'CNG'], dtype=object)"
      ]
     },
     "execution_count": 37,
     "metadata": {},
     "output_type": "execute_result"
    }
   ],
   "source": [
    "df['Fuel_Type'].unique()"
   ]
  },
  {
   "cell_type": "code",
   "execution_count": 38,
   "id": "242fffd0",
   "metadata": {},
   "outputs": [
    {
     "data": {
      "text/plain": [
       "array(['Dealer', 'Individual'], dtype=object)"
      ]
     },
     "execution_count": 38,
     "metadata": {},
     "output_type": "execute_result"
    }
   ],
   "source": [
    "df['Seller_Type'].unique()"
   ]
  },
  {
   "cell_type": "code",
   "execution_count": 41,
   "id": "c697c3ce",
   "metadata": {},
   "outputs": [
    {
     "data": {
      "text/plain": [
       "array(['Manual', 'Automatic'], dtype=object)"
      ]
     },
     "execution_count": 41,
     "metadata": {},
     "output_type": "execute_result"
    }
   ],
   "source": [
    "df['Transmission'].unique()"
   ]
  },
  {
   "cell_type": "code",
   "execution_count": 42,
   "id": "c533d3b4",
   "metadata": {},
   "outputs": [
    {
     "data": {
      "text/html": [
       "<div>\n",
       "<style scoped>\n",
       "    .dataframe tbody tr th:only-of-type {\n",
       "        vertical-align: middle;\n",
       "    }\n",
       "\n",
       "    .dataframe tbody tr th {\n",
       "        vertical-align: top;\n",
       "    }\n",
       "\n",
       "    .dataframe thead th {\n",
       "        text-align: right;\n",
       "    }\n",
       "</style>\n",
       "<table border=\"1\" class=\"dataframe\">\n",
       "  <thead>\n",
       "    <tr style=\"text-align: right;\">\n",
       "      <th></th>\n",
       "      <th>Selling_Price</th>\n",
       "      <th>Present_Price</th>\n",
       "      <th>Kms_Driven</th>\n",
       "      <th>Owner</th>\n",
       "      <th>Car_age</th>\n",
       "      <th>Fuel_Type_Diesel</th>\n",
       "      <th>Fuel_Type_Petrol</th>\n",
       "      <th>Seller_Type_Individual</th>\n",
       "      <th>Transmission_Manual</th>\n",
       "    </tr>\n",
       "  </thead>\n",
       "  <tbody>\n",
       "    <tr>\n",
       "      <th>0</th>\n",
       "      <td>3.35</td>\n",
       "      <td>5.59</td>\n",
       "      <td>27000</td>\n",
       "      <td>0</td>\n",
       "      <td>7</td>\n",
       "      <td>0</td>\n",
       "      <td>1</td>\n",
       "      <td>0</td>\n",
       "      <td>1</td>\n",
       "    </tr>\n",
       "    <tr>\n",
       "      <th>1</th>\n",
       "      <td>4.75</td>\n",
       "      <td>9.54</td>\n",
       "      <td>43000</td>\n",
       "      <td>0</td>\n",
       "      <td>8</td>\n",
       "      <td>1</td>\n",
       "      <td>0</td>\n",
       "      <td>0</td>\n",
       "      <td>1</td>\n",
       "    </tr>\n",
       "    <tr>\n",
       "      <th>2</th>\n",
       "      <td>7.25</td>\n",
       "      <td>9.85</td>\n",
       "      <td>6900</td>\n",
       "      <td>0</td>\n",
       "      <td>4</td>\n",
       "      <td>0</td>\n",
       "      <td>1</td>\n",
       "      <td>0</td>\n",
       "      <td>1</td>\n",
       "    </tr>\n",
       "    <tr>\n",
       "      <th>3</th>\n",
       "      <td>2.85</td>\n",
       "      <td>4.15</td>\n",
       "      <td>5200</td>\n",
       "      <td>0</td>\n",
       "      <td>10</td>\n",
       "      <td>0</td>\n",
       "      <td>1</td>\n",
       "      <td>0</td>\n",
       "      <td>1</td>\n",
       "    </tr>\n",
       "    <tr>\n",
       "      <th>4</th>\n",
       "      <td>4.60</td>\n",
       "      <td>6.87</td>\n",
       "      <td>42450</td>\n",
       "      <td>0</td>\n",
       "      <td>7</td>\n",
       "      <td>1</td>\n",
       "      <td>0</td>\n",
       "      <td>0</td>\n",
       "      <td>1</td>\n",
       "    </tr>\n",
       "  </tbody>\n",
       "</table>\n",
       "</div>"
      ],
      "text/plain": [
       "   Selling_Price  Present_Price  Kms_Driven  Owner  Car_age  Fuel_Type_Diesel  \\\n",
       "0           3.35           5.59       27000      0        7                 0   \n",
       "1           4.75           9.54       43000      0        8                 1   \n",
       "2           7.25           9.85        6900      0        4                 0   \n",
       "3           2.85           4.15        5200      0       10                 0   \n",
       "4           4.60           6.87       42450      0        7                 1   \n",
       "\n",
       "   Fuel_Type_Petrol  Seller_Type_Individual  Transmission_Manual  \n",
       "0                 1                       0                    1  \n",
       "1                 0                       0                    1  \n",
       "2                 1                       0                    1  \n",
       "3                 1                       0                    1  \n",
       "4                 0                       0                    1  "
      ]
     },
     "execution_count": 42,
     "metadata": {},
     "output_type": "execute_result"
    }
   ],
   "source": [
    "clean_data=pd.get_dummies(df,drop_first=True)\n",
    "clean_data.head()"
   ]
  },
  {
   "cell_type": "markdown",
   "id": "b1807cfc",
   "metadata": {},
   "source": [
    "### Checking MultiCollinearity using VIF"
   ]
  },
  {
   "cell_type": "code",
   "execution_count": 43,
   "id": "b84a57d7",
   "metadata": {},
   "outputs": [
    {
     "data": {
      "text/html": [
       "<div>\n",
       "<style scoped>\n",
       "    .dataframe tbody tr th:only-of-type {\n",
       "        vertical-align: middle;\n",
       "    }\n",
       "\n",
       "    .dataframe tbody tr th {\n",
       "        vertical-align: top;\n",
       "    }\n",
       "\n",
       "    .dataframe thead th {\n",
       "        text-align: right;\n",
       "    }\n",
       "</style>\n",
       "<table border=\"1\" class=\"dataframe\">\n",
       "  <thead>\n",
       "    <tr style=\"text-align: right;\">\n",
       "      <th></th>\n",
       "      <th>VIF</th>\n",
       "      <th>Features</th>\n",
       "    </tr>\n",
       "  </thead>\n",
       "  <tbody>\n",
       "    <tr>\n",
       "      <th>0</th>\n",
       "      <td>3.204463</td>\n",
       "      <td>Present_Price</td>\n",
       "    </tr>\n",
       "    <tr>\n",
       "      <th>1</th>\n",
       "      <td>2.892740</td>\n",
       "      <td>Kms_Driven</td>\n",
       "    </tr>\n",
       "    <tr>\n",
       "      <th>2</th>\n",
       "      <td>1.087681</td>\n",
       "      <td>Owner</td>\n",
       "    </tr>\n",
       "    <tr>\n",
       "      <th>3</th>\n",
       "      <td>10.831000</td>\n",
       "      <td>Car_age</td>\n",
       "    </tr>\n",
       "    <tr>\n",
       "      <th>4</th>\n",
       "      <td>4.891105</td>\n",
       "      <td>Fuel_Type_Diesel</td>\n",
       "    </tr>\n",
       "    <tr>\n",
       "      <th>5</th>\n",
       "      <td>14.342446</td>\n",
       "      <td>Fuel_Type_Petrol</td>\n",
       "    </tr>\n",
       "    <tr>\n",
       "      <th>6</th>\n",
       "      <td>2.230725</td>\n",
       "      <td>Seller_Type_Individual</td>\n",
       "    </tr>\n",
       "    <tr>\n",
       "      <th>7</th>\n",
       "      <td>8.392371</td>\n",
       "      <td>Transmission_Manual</td>\n",
       "    </tr>\n",
       "  </tbody>\n",
       "</table>\n",
       "</div>"
      ],
      "text/plain": [
       "         VIF                Features\n",
       "0   3.204463           Present_Price\n",
       "1   2.892740              Kms_Driven\n",
       "2   1.087681                   Owner\n",
       "3  10.831000                 Car_age\n",
       "4   4.891105        Fuel_Type_Diesel\n",
       "5  14.342446        Fuel_Type_Petrol\n",
       "6   2.230725  Seller_Type_Individual\n",
       "7   8.392371     Transmission_Manual"
      ]
     },
     "execution_count": 43,
     "metadata": {},
     "output_type": "execute_result"
    }
   ],
   "source": [
    "from statsmodels.stats.outliers_influence import variance_inflation_factor\n",
    "variables=clean_data[['Present_Price','Kms_Driven',\t'Owner', 'Car_age',\t'Fuel_Type_Diesel',\t'Fuel_Type_Petrol',\t'Seller_Type_Individual',\t'Transmission_Manual']]\n",
    "\n",
    "vif=pd.DataFrame()\n",
    "vif[\"VIF\"]=[variance_inflation_factor(variables.values,i) for i in range(variables.shape[1])]\n",
    "vif[\"Features\"]=variables.columns\n",
    "vif"
   ]
  },
  {
   "cell_type": "code",
   "execution_count": 44,
   "id": "07492dba",
   "metadata": {},
   "outputs": [],
   "source": [
    "data_no_multicollinearity=clean_data.drop('Fuel_Type_Petrol',axis=1)"
   ]
  },
  {
   "cell_type": "code",
   "execution_count": 45,
   "id": "4a3b52f1",
   "metadata": {},
   "outputs": [
    {
     "data": {
      "text/html": [
       "<div>\n",
       "<style scoped>\n",
       "    .dataframe tbody tr th:only-of-type {\n",
       "        vertical-align: middle;\n",
       "    }\n",
       "\n",
       "    .dataframe tbody tr th {\n",
       "        vertical-align: top;\n",
       "    }\n",
       "\n",
       "    .dataframe thead th {\n",
       "        text-align: right;\n",
       "    }\n",
       "</style>\n",
       "<table border=\"1\" class=\"dataframe\">\n",
       "  <thead>\n",
       "    <tr style=\"text-align: right;\">\n",
       "      <th></th>\n",
       "      <th>VIF</th>\n",
       "      <th>Features</th>\n",
       "    </tr>\n",
       "  </thead>\n",
       "  <tbody>\n",
       "    <tr>\n",
       "      <th>0</th>\n",
       "      <td>2.544336</td>\n",
       "      <td>Present_Price</td>\n",
       "    </tr>\n",
       "    <tr>\n",
       "      <th>1</th>\n",
       "      <td>2.886452</td>\n",
       "      <td>Kms_Driven</td>\n",
       "    </tr>\n",
       "    <tr>\n",
       "      <th>2</th>\n",
       "      <td>1.082447</td>\n",
       "      <td>Owner</td>\n",
       "    </tr>\n",
       "    <tr>\n",
       "      <th>3</th>\n",
       "      <td>8.713539</td>\n",
       "      <td>Car_age</td>\n",
       "    </tr>\n",
       "    <tr>\n",
       "      <th>4</th>\n",
       "      <td>1.706132</td>\n",
       "      <td>Fuel_Type_Diesel</td>\n",
       "    </tr>\n",
       "    <tr>\n",
       "      <th>5</th>\n",
       "      <td>1.904835</td>\n",
       "      <td>Seller_Type_Individual</td>\n",
       "    </tr>\n",
       "    <tr>\n",
       "      <th>6</th>\n",
       "      <td>4.666095</td>\n",
       "      <td>Transmission_Manual</td>\n",
       "    </tr>\n",
       "  </tbody>\n",
       "</table>\n",
       "</div>"
      ],
      "text/plain": [
       "        VIF                Features\n",
       "0  2.544336           Present_Price\n",
       "1  2.886452              Kms_Driven\n",
       "2  1.082447                   Owner\n",
       "3  8.713539                 Car_age\n",
       "4  1.706132        Fuel_Type_Diesel\n",
       "5  1.904835  Seller_Type_Individual\n",
       "6  4.666095     Transmission_Manual"
      ]
     },
     "execution_count": 45,
     "metadata": {},
     "output_type": "execute_result"
    }
   ],
   "source": [
    "variables=clean_data[['Present_Price','Kms_Driven',\t'Owner', 'Car_age',\t'Fuel_Type_Diesel',\t'Seller_Type_Individual',\t'Transmission_Manual']]\n",
    "\n",
    "vif=pd.DataFrame()\n",
    "vif[\"VIF\"]=[variance_inflation_factor(variables.values,i) for i in range(variables.shape[1])]\n",
    "vif[\"Features\"]=variables.columns\n",
    "vif"
   ]
  },
  {
   "cell_type": "code",
   "execution_count": 46,
   "id": "c49535b4",
   "metadata": {},
   "outputs": [],
   "source": [
    "data_no_multicollinearity=clean_data.drop('Car_age',axis=1)"
   ]
  },
  {
   "cell_type": "code",
   "execution_count": 47,
   "id": "5582c93d",
   "metadata": {},
   "outputs": [
    {
     "data": {
      "text/html": [
       "<div>\n",
       "<style scoped>\n",
       "    .dataframe tbody tr th:only-of-type {\n",
       "        vertical-align: middle;\n",
       "    }\n",
       "\n",
       "    .dataframe tbody tr th {\n",
       "        vertical-align: top;\n",
       "    }\n",
       "\n",
       "    .dataframe thead th {\n",
       "        text-align: right;\n",
       "    }\n",
       "</style>\n",
       "<table border=\"1\" class=\"dataframe\">\n",
       "  <thead>\n",
       "    <tr style=\"text-align: right;\">\n",
       "      <th></th>\n",
       "      <th>VIF</th>\n",
       "      <th>Features</th>\n",
       "    </tr>\n",
       "  </thead>\n",
       "  <tbody>\n",
       "    <tr>\n",
       "      <th>0</th>\n",
       "      <td>2.200428</td>\n",
       "      <td>Present_Price</td>\n",
       "    </tr>\n",
       "    <tr>\n",
       "      <th>1</th>\n",
       "      <td>1.883557</td>\n",
       "      <td>Kms_Driven</td>\n",
       "    </tr>\n",
       "    <tr>\n",
       "      <th>2</th>\n",
       "      <td>1.065887</td>\n",
       "      <td>Owner</td>\n",
       "    </tr>\n",
       "    <tr>\n",
       "      <th>3</th>\n",
       "      <td>1.669188</td>\n",
       "      <td>Fuel_Type_Diesel</td>\n",
       "    </tr>\n",
       "    <tr>\n",
       "      <th>4</th>\n",
       "      <td>1.748669</td>\n",
       "      <td>Seller_Type_Individual</td>\n",
       "    </tr>\n",
       "    <tr>\n",
       "      <th>5</th>\n",
       "      <td>2.465705</td>\n",
       "      <td>Transmission_Manual</td>\n",
       "    </tr>\n",
       "  </tbody>\n",
       "</table>\n",
       "</div>"
      ],
      "text/plain": [
       "        VIF                Features\n",
       "0  2.200428           Present_Price\n",
       "1  1.883557              Kms_Driven\n",
       "2  1.065887                   Owner\n",
       "3  1.669188        Fuel_Type_Diesel\n",
       "4  1.748669  Seller_Type_Individual\n",
       "5  2.465705     Transmission_Manual"
      ]
     },
     "execution_count": 47,
     "metadata": {},
     "output_type": "execute_result"
    }
   ],
   "source": [
    "variables=clean_data[['Present_Price','Kms_Driven',\t'Owner', 'Fuel_Type_Diesel',\t'Seller_Type_Individual',\t'Transmission_Manual']]\n",
    "\n",
    "vif=pd.DataFrame()\n",
    "vif[\"VIF\"]=[variance_inflation_factor(variables.values,i) for i in range(variables.shape[1])]\n",
    "vif[\"Features\"]=variables.columns\n",
    "vif"
   ]
  },
  {
   "cell_type": "code",
   "execution_count": 48,
   "id": "ce3ad538",
   "metadata": {},
   "outputs": [
    {
     "data": {
      "text/html": [
       "<div>\n",
       "<style scoped>\n",
       "    .dataframe tbody tr th:only-of-type {\n",
       "        vertical-align: middle;\n",
       "    }\n",
       "\n",
       "    .dataframe tbody tr th {\n",
       "        vertical-align: top;\n",
       "    }\n",
       "\n",
       "    .dataframe thead th {\n",
       "        text-align: right;\n",
       "    }\n",
       "</style>\n",
       "<table border=\"1\" class=\"dataframe\">\n",
       "  <thead>\n",
       "    <tr style=\"text-align: right;\">\n",
       "      <th></th>\n",
       "      <th>Selling_Price</th>\n",
       "      <th>Present_Price</th>\n",
       "      <th>Kms_Driven</th>\n",
       "      <th>Owner</th>\n",
       "      <th>Fuel_Type_Diesel</th>\n",
       "      <th>Seller_Type_Individual</th>\n",
       "      <th>Transmission_Manual</th>\n",
       "    </tr>\n",
       "  </thead>\n",
       "  <tbody>\n",
       "    <tr>\n",
       "      <th>0</th>\n",
       "      <td>3.35</td>\n",
       "      <td>5.59</td>\n",
       "      <td>27000</td>\n",
       "      <td>0</td>\n",
       "      <td>0</td>\n",
       "      <td>0</td>\n",
       "      <td>1</td>\n",
       "    </tr>\n",
       "    <tr>\n",
       "      <th>1</th>\n",
       "      <td>4.75</td>\n",
       "      <td>9.54</td>\n",
       "      <td>43000</td>\n",
       "      <td>0</td>\n",
       "      <td>1</td>\n",
       "      <td>0</td>\n",
       "      <td>1</td>\n",
       "    </tr>\n",
       "    <tr>\n",
       "      <th>2</th>\n",
       "      <td>7.25</td>\n",
       "      <td>9.85</td>\n",
       "      <td>6900</td>\n",
       "      <td>0</td>\n",
       "      <td>0</td>\n",
       "      <td>0</td>\n",
       "      <td>1</td>\n",
       "    </tr>\n",
       "    <tr>\n",
       "      <th>3</th>\n",
       "      <td>2.85</td>\n",
       "      <td>4.15</td>\n",
       "      <td>5200</td>\n",
       "      <td>0</td>\n",
       "      <td>0</td>\n",
       "      <td>0</td>\n",
       "      <td>1</td>\n",
       "    </tr>\n",
       "    <tr>\n",
       "      <th>4</th>\n",
       "      <td>4.60</td>\n",
       "      <td>6.87</td>\n",
       "      <td>42450</td>\n",
       "      <td>0</td>\n",
       "      <td>1</td>\n",
       "      <td>0</td>\n",
       "      <td>1</td>\n",
       "    </tr>\n",
       "    <tr>\n",
       "      <th>...</th>\n",
       "      <td>...</td>\n",
       "      <td>...</td>\n",
       "      <td>...</td>\n",
       "      <td>...</td>\n",
       "      <td>...</td>\n",
       "      <td>...</td>\n",
       "      <td>...</td>\n",
       "    </tr>\n",
       "    <tr>\n",
       "      <th>296</th>\n",
       "      <td>9.50</td>\n",
       "      <td>11.60</td>\n",
       "      <td>33988</td>\n",
       "      <td>0</td>\n",
       "      <td>1</td>\n",
       "      <td>0</td>\n",
       "      <td>1</td>\n",
       "    </tr>\n",
       "    <tr>\n",
       "      <th>297</th>\n",
       "      <td>4.00</td>\n",
       "      <td>5.90</td>\n",
       "      <td>60000</td>\n",
       "      <td>0</td>\n",
       "      <td>0</td>\n",
       "      <td>0</td>\n",
       "      <td>1</td>\n",
       "    </tr>\n",
       "    <tr>\n",
       "      <th>298</th>\n",
       "      <td>3.35</td>\n",
       "      <td>11.00</td>\n",
       "      <td>87934</td>\n",
       "      <td>0</td>\n",
       "      <td>0</td>\n",
       "      <td>0</td>\n",
       "      <td>1</td>\n",
       "    </tr>\n",
       "    <tr>\n",
       "      <th>299</th>\n",
       "      <td>11.50</td>\n",
       "      <td>12.50</td>\n",
       "      <td>9000</td>\n",
       "      <td>0</td>\n",
       "      <td>1</td>\n",
       "      <td>0</td>\n",
       "      <td>1</td>\n",
       "    </tr>\n",
       "    <tr>\n",
       "      <th>300</th>\n",
       "      <td>5.30</td>\n",
       "      <td>5.90</td>\n",
       "      <td>5464</td>\n",
       "      <td>0</td>\n",
       "      <td>0</td>\n",
       "      <td>0</td>\n",
       "      <td>1</td>\n",
       "    </tr>\n",
       "  </tbody>\n",
       "</table>\n",
       "<p>301 rows × 7 columns</p>\n",
       "</div>"
      ],
      "text/plain": [
       "     Selling_Price  Present_Price  Kms_Driven  Owner  Fuel_Type_Diesel  \\\n",
       "0             3.35           5.59       27000      0                 0   \n",
       "1             4.75           9.54       43000      0                 1   \n",
       "2             7.25           9.85        6900      0                 0   \n",
       "3             2.85           4.15        5200      0                 0   \n",
       "4             4.60           6.87       42450      0                 1   \n",
       "..             ...            ...         ...    ...               ...   \n",
       "296           9.50          11.60       33988      0                 1   \n",
       "297           4.00           5.90       60000      0                 0   \n",
       "298           3.35          11.00       87934      0                 0   \n",
       "299          11.50          12.50        9000      0                 1   \n",
       "300           5.30           5.90        5464      0                 0   \n",
       "\n",
       "     Seller_Type_Individual  Transmission_Manual  \n",
       "0                         0                    1  \n",
       "1                         0                    1  \n",
       "2                         0                    1  \n",
       "3                         0                    1  \n",
       "4                         0                    1  \n",
       "..                      ...                  ...  \n",
       "296                       0                    1  \n",
       "297                       0                    1  \n",
       "298                       0                    1  \n",
       "299                       0                    1  \n",
       "300                       0                    1  \n",
       "\n",
       "[301 rows x 7 columns]"
      ]
     },
     "execution_count": 48,
     "metadata": {},
     "output_type": "execute_result"
    }
   ],
   "source": [
    "data_no_multicollinearity.drop(labels='Fuel_Type_Petrol',axis=1)"
   ]
  },
  {
   "cell_type": "code",
   "execution_count": 49,
   "id": "27423fd9",
   "metadata": {},
   "outputs": [],
   "source": [
    "x=data_no_multicollinearity.drop('Selling_Price',axis=1)"
   ]
  },
  {
   "cell_type": "code",
   "execution_count": 50,
   "id": "40edba32",
   "metadata": {},
   "outputs": [],
   "source": [
    "y=data_no_multicollinearity['Selling_Price']"
   ]
  },
  {
   "cell_type": "markdown",
   "id": "ff725add",
   "metadata": {},
   "source": [
    "### FEATURE SCALING"
   ]
  },
  {
   "cell_type": "code",
   "execution_count": 51,
   "id": "2fbeda21",
   "metadata": {},
   "outputs": [
    {
     "data": {
      "text/plain": [
       "StandardScaler()"
      ]
     },
     "execution_count": 51,
     "metadata": {},
     "output_type": "execute_result"
    }
   ],
   "source": [
    "from sklearn.preprocessing import StandardScaler\n",
    "scaler=StandardScaler()\n",
    "scaler.fit(x[['Present_Price','Kms_Driven']])"
   ]
  },
  {
   "cell_type": "markdown",
   "id": "4b97ea91",
   "metadata": {},
   "source": [
    "### TRAINING AND TESTING"
   ]
  },
  {
   "cell_type": "code",
   "execution_count": 52,
   "id": "8f832571",
   "metadata": {},
   "outputs": [],
   "source": [
    "from sklearn.model_selection import  train_test_split\n",
    "x_train,x_test,y_train,y_test=train_test_split(x,y,test_size=0.2,random_state=0)"
   ]
  },
  {
   "cell_type": "markdown",
   "id": "1febc363",
   "metadata": {},
   "source": [
    "### LINEAR_REGRESSION"
   ]
  },
  {
   "cell_type": "code",
   "execution_count": 53,
   "id": "09452d0b",
   "metadata": {},
   "outputs": [],
   "source": [
    "from sklearn.linear_model import LinearRegression\n",
    "lr=LinearRegression()\n",
    "lr.fit(x_train,y_train)\n",
    "y_pred=lr.predict(x_test)"
   ]
  },
  {
   "cell_type": "code",
   "execution_count": 54,
   "id": "4282eb53",
   "metadata": {},
   "outputs": [
    {
     "data": {
      "text/plain": [
       "array([ 6.88964206,  0.96164601,  3.88984693,  8.36915728, 14.02105143,\n",
       "        4.39441057,  4.13182723,  0.94941662,  6.05140004,  5.19658685,\n",
       "        3.47598139,  1.1263384 ,  3.98364301,  7.71311028,  7.84649064,\n",
       "       13.29880406,  7.11197167,  4.01657233,  0.56173689,  1.47029759,\n",
       "        6.18974754,  2.776493  ,  7.05249176,  7.22235454, -0.1797864 ,\n",
       "        0.98802991, -0.47264098,  0.75781258,  0.8861119 ,  8.70752758,\n",
       "        4.32302694,  7.37294654,  0.63949642,  7.52199065,  4.7588688 ,\n",
       "        1.18695626,  4.90138059,  6.68329541, -1.02977555,  8.77280008,\n",
       "        8.28768365, 20.23172023,  4.30469526,  2.70694603,  6.66802818,\n",
       "        9.16239515,  0.36592768,  1.10496168,  5.03205302,  7.13496559,\n",
       "        8.58800249,  3.61101905,  4.70045817, 20.10841249,  0.99582927,\n",
       "        0.81892049,  0.73988511,  2.69648666,  3.33467925,  0.29032312,\n",
       "        6.18858764])"
      ]
     },
     "execution_count": 54,
     "metadata": {},
     "output_type": "execute_result"
    }
   ],
   "source": [
    "y_pred"
   ]
  },
  {
   "cell_type": "code",
   "execution_count": 55,
   "id": "e687249e",
   "metadata": {},
   "outputs": [
    {
     "data": {
      "text/plain": [
       "223     8.25\n",
       "150     0.50\n",
       "226     5.25\n",
       "296     9.50\n",
       "52     18.00\n",
       "       ...  \n",
       "137     0.65\n",
       "227     2.55\n",
       "26      4.15\n",
       "106     1.35\n",
       "92      3.51\n",
       "Name: Selling_Price, Length: 61, dtype: float64"
      ]
     },
     "execution_count": 55,
     "metadata": {},
     "output_type": "execute_result"
    }
   ],
   "source": [
    "y_test"
   ]
  },
  {
   "cell_type": "code",
   "execution_count": 56,
   "id": "2d88717a",
   "metadata": {},
   "outputs": [],
   "source": [
    "from sklearn.metrics import mean_squared_error, r2_score"
   ]
  },
  {
   "cell_type": "code",
   "execution_count": 57,
   "id": "5e1bd113",
   "metadata": {},
   "outputs": [],
   "source": [
    "r_squared=r2_score(y_test,y_pred)"
   ]
  },
  {
   "cell_type": "code",
   "execution_count": 58,
   "id": "f896552d",
   "metadata": {},
   "outputs": [
    {
     "data": {
      "text/plain": [
       "0.8795077661641193"
      ]
     },
     "execution_count": 58,
     "metadata": {},
     "output_type": "execute_result"
    }
   ],
   "source": [
    "r_squared"
   ]
  },
  {
   "cell_type": "code",
   "execution_count": 59,
   "id": "59c0ec3c",
   "metadata": {},
   "outputs": [],
   "source": [
    "mse=mean_squared_error(y_test,y_pred)"
   ]
  },
  {
   "cell_type": "code",
   "execution_count": 60,
   "id": "d2f8dbad",
   "metadata": {},
   "outputs": [
    {
     "data": {
      "text/plain": [
       "3.045720579913844"
      ]
     },
     "execution_count": 60,
     "metadata": {},
     "output_type": "execute_result"
    }
   ],
   "source": [
    "mse"
   ]
  },
  {
   "cell_type": "markdown",
   "id": "e2a950c2",
   "metadata": {},
   "source": [
    "### DECISION TREE"
   ]
  },
  {
   "cell_type": "code",
   "execution_count": 61,
   "id": "8ba55393",
   "metadata": {},
   "outputs": [
    {
     "data": {
      "text/plain": [
       "DecisionTreeRegressor(random_state=0)"
      ]
     },
     "execution_count": 61,
     "metadata": {},
     "output_type": "execute_result"
    }
   ],
   "source": [
    "from sklearn.tree import DecisionTreeRegressor,plot_tree\n",
    "dr=DecisionTreeRegressor(random_state=0)\n",
    "dr.fit(x_train,y_train)"
   ]
  },
  {
   "cell_type": "code",
   "execution_count": 62,
   "id": "2e4c8198",
   "metadata": {},
   "outputs": [
    {
     "data": {
      "text/plain": [
       "array([ 4.95 ,  0.4  ,  4.4  ,  7.25 , 14.25 ,  5.3  ,  2.9  ,  0.25 ,\n",
       "        5.15 ,  5.225,  2.   ,  0.9  ,  4.85 ,  6.7  ,  7.75 , 14.25 ,\n",
       "        6.4  ,  3.45 ,  0.45 ,  1.65 ,  2.1  ,  4.9  ,  5.225,  9.7  ,\n",
       "        0.2  ,  0.4  ,  0.2  ,  0.45 ,  0.45 ,  3.8  ,  3.9  ,  5.95 ,\n",
       "        0.45 ,  6.5  ,  4.1  ,  1.05 ,  6.25 ,  2.65 ,  0.2  , 11.25 ,\n",
       "        7.25 , 23.   ,  4.9  ,  4.4  ,  5.5  ,  8.4  ,  0.5  ,  0.4  ,\n",
       "        5.   ,  7.75 ,  8.99 ,  3.1  ,  5.   , 23.   ,  1.25 ,  1.1  ,\n",
       "        0.55 ,  2.9  ,  4.   ,  3.   ,  5.5  ])"
      ]
     },
     "execution_count": 62,
     "metadata": {},
     "output_type": "execute_result"
    }
   ],
   "source": [
    "y_pred1=dr.predict(x_test)\n",
    "y_pred1"
   ]
  },
  {
   "cell_type": "code",
   "execution_count": 63,
   "id": "e959e85a",
   "metadata": {},
   "outputs": [
    {
     "data": {
      "text/plain": [
       "223     8.25\n",
       "150     0.50\n",
       "226     5.25\n",
       "296     9.50\n",
       "52     18.00\n",
       "       ...  \n",
       "137     0.65\n",
       "227     2.55\n",
       "26      4.15\n",
       "106     1.35\n",
       "92      3.51\n",
       "Name: Selling_Price, Length: 61, dtype: float64"
      ]
     },
     "execution_count": 63,
     "metadata": {},
     "output_type": "execute_result"
    }
   ],
   "source": [
    "y_test"
   ]
  },
  {
   "cell_type": "code",
   "execution_count": 64,
   "id": "07ab3bef",
   "metadata": {},
   "outputs": [
    {
     "data": {
      "text/plain": [
       "0.9079354451502754"
      ]
     },
     "execution_count": 64,
     "metadata": {},
     "output_type": "execute_result"
    }
   ],
   "source": [
    "r_squared=r2_score(y_test,y_pred1)\n",
    "r_squared"
   ]
  },
  {
   "cell_type": "code",
   "execution_count": 65,
   "id": "6276d2da",
   "metadata": {},
   "outputs": [
    {
     "data": {
      "text/plain": [
       "2.3271450819672133"
      ]
     },
     "execution_count": 65,
     "metadata": {},
     "output_type": "execute_result"
    }
   ],
   "source": [
    "mse=mean_squared_error(y_test,y_pred1)\n",
    "mse"
   ]
  },
  {
   "cell_type": "code",
   "execution_count": 66,
   "id": "579b7fd1",
   "metadata": {},
   "outputs": [
    {
     "data": {
      "text/plain": [
       "[Text(486.0531496062992, 365.88461538461536, 'X[0] <= 7.775\\nmse = 18.779\\nsamples = 61\\nvalue = 4.944'),\n",
       " Text(265.2696850393701, 336.6138461538461, 'X[0] <= 3.94\\nmse = 3.157\\nsamples = 34\\nvalue = 2.081'),\n",
       " Text(187.8307086614173, 307.3430769230769, 'X[1] <= 25500.0\\nmse = 0.363\\nsamples = 19\\nvalue = 0.64'),\n",
       " Text(125.22047244094487, 278.0723076923077, 'X[1] <= 10850.0\\nmse = 0.077\\nsamples = 13\\nvalue = 0.931'),\n",
       " Text(79.08661417322834, 248.80153846153846, 'X[0] <= 1.66\\nmse = 0.028\\nsamples = 7\\nvalue = 1.113'),\n",
       " Text(65.90551181102362, 219.5307692307692, 'X[0] <= 0.895\\nmse = 0.008\\nsamples = 6\\nvalue = 1.053'),\n",
       " Text(39.54330708661417, 190.26, 'X[0] <= 0.833\\nmse = 0.0\\nsamples = 3\\nvalue = 0.966'),\n",
       " Text(26.362204724409448, 160.98923076923077, 'X[0] <= 0.688\\nmse = 0.0\\nsamples = 2\\nvalue = 0.956'),\n",
       " Text(13.181102362204724, 131.71846153846153, 'mse = 0.0\\nsamples = 1\\nvalue = 0.949'),\n",
       " Text(39.54330708661417, 131.71846153846153, 'mse = 0.0\\nsamples = 1\\nvalue = 0.962'),\n",
       " Text(52.724409448818896, 160.98923076923077, 'mse = 0.0\\nsamples = 1\\nvalue = 0.988'),\n",
       " Text(92.26771653543307, 190.26, 'X[1] <= 7350.0\\nmse = 0.001\\nsamples = 3\\nvalue = 1.139'),\n",
       " Text(79.08661417322834, 160.98923076923077, 'X[0] <= 1.06\\nmse = 0.0\\nsamples = 2\\nvalue = 1.116'),\n",
       " Text(65.90551181102362, 131.71846153846153, 'mse = 0.0\\nsamples = 1\\nvalue = 1.126'),\n",
       " Text(92.26771653543307, 131.71846153846153, 'mse = 0.0\\nsamples = 1\\nvalue = 1.105'),\n",
       " Text(105.44881889763779, 160.98923076923077, 'mse = -0.0\\nsamples = 1\\nvalue = 1.187'),\n",
       " Text(92.26771653543307, 219.5307692307692, 'mse = -0.0\\nsamples = 1\\nvalue = 1.47'),\n",
       " Text(171.35433070866142, 248.80153846153846, 'X[0] <= 2.475\\nmse = 0.049\\nsamples = 6\\nvalue = 0.718'),\n",
       " Text(158.17322834645668, 219.5307692307692, 'X[0] <= 1.35\\nmse = 0.015\\nsamples = 5\\nvalue = 0.804'),\n",
       " Text(144.99212598425197, 190.26, 'X[1] <= 14500.0\\nmse = 0.008\\nsamples = 4\\nvalue = 0.756'),\n",
       " Text(131.81102362204723, 160.98923076923077, 'mse = 0.0\\nsamples = 1\\nvalue = 0.886'),\n",
       " Text(158.17322834645668, 160.98923076923077, 'X[1] <= 24250.0\\nmse = 0.003\\nsamples = 3\\nvalue = 0.712'),\n",
       " Text(144.99212598425197, 131.71846153846153, 'X[1] <= 19750.0\\nmse = 0.0\\nsamples = 2\\nvalue = 0.749'),\n",
       " Text(131.81102362204723, 102.44769230769231, 'mse = 0.0\\nsamples = 1\\nvalue = 0.74'),\n",
       " Text(158.17322834645668, 102.44769230769231, 'mse = 0.0\\nsamples = 1\\nvalue = 0.758'),\n",
       " Text(171.35433070866142, 131.71846153846153, 'mse = 0.0\\nsamples = 1\\nvalue = 0.639'),\n",
       " Text(171.35433070866142, 190.26, 'mse = 0.0\\nsamples = 1\\nvalue = 0.996'),\n",
       " Text(184.53543307086613, 219.5307692307692, 'mse = 0.0\\nsamples = 1\\nvalue = 0.29'),\n",
       " Text(250.44094488188975, 278.0723076923077, 'X[0] <= 0.918\\nmse = 0.406\\nsamples = 6\\nvalue = 0.011'),\n",
       " Text(224.0787401574803, 248.80153846153846, 'X[1] <= 28000.0\\nmse = 0.254\\nsamples = 4\\nvalue = -0.329'),\n",
       " Text(210.89763779527559, 219.5307692307692, 'mse = 0.0\\nsamples = 1\\nvalue = -1.03'),\n",
       " Text(237.25984251968504, 219.5307692307692, 'X[1] <= 45000.0\\nmse = 0.121\\nsamples = 3\\nvalue = -0.095'),\n",
       " Text(224.0787401574803, 190.26, 'mse = 0.0\\nsamples = 1\\nvalue = 0.366'),\n",
       " Text(250.44094488188975, 190.26, 'X[0] <= 0.769\\nmse = 0.021\\nsamples = 2\\nvalue = -0.326'),\n",
       " Text(237.25984251968504, 160.98923076923077, 'mse = 0.0\\nsamples = 1\\nvalue = -0.18'),\n",
       " Text(263.62204724409446, 160.98923076923077, 'mse = 0.0\\nsamples = 1\\nvalue = -0.473'),\n",
       " Text(276.8031496062992, 248.80153846153846, 'X[1] <= 28000.0\\nmse = 0.017\\nsamples = 2\\nvalue = 0.69'),\n",
       " Text(263.62204724409446, 219.5307692307692, 'mse = 0.0\\nsamples = 1\\nvalue = 0.819'),\n",
       " Text(289.98425196850394, 219.5307692307692, 'mse = -0.0\\nsamples = 1\\nvalue = 0.562'),\n",
       " Text(342.70866141732284, 307.3430769230769, 'X[6] <= 0.5\\nmse = 0.734\\nsamples = 15\\nvalue = 3.907'),\n",
       " Text(329.5275590551181, 278.0723076923077, 'mse = 0.0\\nsamples = 1\\nvalue = 6.051'),\n",
       " Text(355.8897637795275, 278.0723076923077, 'X[0] <= 7.415\\nmse = 0.434\\nsamples = 14\\nvalue = 3.753'),\n",
       " Text(342.70866141732284, 248.80153846153846, 'X[0] <= 6.96\\nmse = 0.359\\nsamples = 13\\nvalue = 3.665'),\n",
       " Text(329.5275590551181, 219.5307692307692, 'X[0] <= 5.92\\nmse = 0.306\\nsamples = 12\\nvalue = 3.745'),\n",
       " Text(303.1653543307087, 190.26, 'X[1] <= 56069.0\\nmse = 0.28\\nsamples = 8\\nvalue = 3.509'),\n",
       " Text(289.98425196850394, 160.98923076923077, 'X[1] <= 3992.5\\nmse = 0.212\\nsamples = 7\\nvalue = 3.625'),\n",
       " Text(276.8031496062992, 131.71846153846153, 'mse = 0.0\\nsamples = 1\\nvalue = 2.776'),\n",
       " Text(303.1653543307087, 131.71846153846153, 'X[1] <= 8496.0\\nmse = 0.108\\nsamples = 6\\nvalue = 3.767'),\n",
       " Text(289.98425196850394, 102.44769230769231, 'mse = 0.0\\nsamples = 1\\nvalue = 4.305'),\n",
       " Text(316.34645669291336, 102.44769230769231, 'X[1] <= 39908.0\\nmse = 0.06\\nsamples = 5\\nvalue = 3.659'),\n",
       " Text(303.1653543307087, 73.17692307692306, 'X[0] <= 5.15\\nmse = 0.042\\nsamples = 4\\nvalue = 3.74'),\n",
       " Text(276.8031496062992, 43.90615384615387, 'X[1] <= 17508.5\\nmse = 0.005\\nsamples = 2\\nvalue = 3.544'),\n",
       " Text(263.62204724409446, 14.635384615384623, 'mse = 0.0\\nsamples = 1\\nvalue = 3.611'),\n",
       " Text(289.98425196850394, 14.635384615384623, 'mse = 0.0\\nsamples = 1\\nvalue = 3.476'),\n",
       " Text(329.5275590551181, 43.90615384615387, 'X[1] <= 22396.0\\nmse = 0.002\\nsamples = 2\\nvalue = 3.937'),\n",
       " Text(316.34645669291336, 14.635384615384623, 'mse = 0.0\\nsamples = 1\\nvalue = 3.984'),\n",
       " Text(342.70866141732284, 14.635384615384623, 'mse = 0.0\\nsamples = 1\\nvalue = 3.89'),\n",
       " Text(329.5275590551181, 73.17692307692306, 'mse = -0.0\\nsamples = 1\\nvalue = 3.335'),\n",
       " Text(316.34645669291336, 160.98923076923077, 'mse = 0.0\\nsamples = 1\\nvalue = 2.696'),\n",
       " Text(355.8897637795275, 190.26, 'X[0] <= 6.365\\nmse = 0.023\\nsamples = 4\\nvalue = 4.216'),\n",
       " Text(342.70866141732284, 160.98923076923077, 'mse = 0.0\\nsamples = 1\\nvalue = 4.394'),\n",
       " Text(369.07086614173227, 160.98923076923077, 'X[4] <= 0.5\\nmse = 0.016\\nsamples = 3\\nvalue = 4.157'),\n",
       " Text(355.8897637795275, 131.71846153846153, 'mse = 0.0\\nsamples = 1\\nvalue = 4.323'),\n",
       " Text(382.251968503937, 131.71846153846153, 'X[1] <= 37500.0\\nmse = 0.003\\nsamples = 2\\nvalue = 4.074'),\n",
       " Text(369.07086614173227, 102.44769230769231, 'mse = 0.0\\nsamples = 1\\nvalue = 4.132'),\n",
       " Text(395.43307086614175, 102.44769230769231, 'mse = -0.0\\nsamples = 1\\nvalue = 4.017'),\n",
       " Text(355.8897637795275, 219.5307692307692, 'mse = -0.0\\nsamples = 1\\nvalue = 2.707'),\n",
       " Text(369.07086614173227, 248.80153846153846, 'mse = -0.0\\nsamples = 1\\nvalue = 4.901'),\n",
       " Text(706.8366141732283, 336.6138461538461, 'X[0] <= 17.405\\nmse = 15.132\\nsamples = 27\\nvalue = 8.549'),\n",
       " Text(629.3976377952756, 307.3430769230769, 'X[0] <= 10.395\\nmse = 1.621\\nsamples = 23\\nvalue = 7.094'),\n",
       " Text(553.6062992125984, 278.0723076923077, 'X[1] <= 49000.0\\nmse = 1.196\\nsamples = 15\\nvalue = 6.554'),\n",
       " Text(487.7007874015748, 248.80153846153846, 'X[1] <= 34764.5\\nmse = 0.602\\nsamples = 10\\nvalue = 7.074'),\n",
       " Text(434.9763779527559, 219.5307692307692, 'X[1] <= 8535.5\\nmse = 0.187\\nsamples = 5\\nvalue = 7.554'),\n",
       " Text(421.79527559055117, 190.26, 'mse = 0.0\\nsamples = 1\\nvalue = 8.288'),\n",
       " Text(448.1574803149606, 190.26, 'X[0] <= 8.75\\nmse = 0.066\\nsamples = 4\\nvalue = 7.371'),\n",
       " Text(421.79527559055117, 160.98923076923077, 'X[3] <= 0.5\\nmse = 0.0\\nsamples = 2\\nvalue = 7.123'),\n",
       " Text(408.61417322834643, 131.71846153846153, 'mse = 0.0\\nsamples = 1\\nvalue = 7.112'),\n",
       " Text(434.9763779527559, 131.71846153846153, 'mse = -0.0\\nsamples = 1\\nvalue = 7.135'),\n",
       " Text(474.5196850393701, 160.98923076923077, 'X[3] <= 0.5\\nmse = 0.009\\nsamples = 2\\nvalue = 7.618'),\n",
       " Text(461.33858267716533, 131.71846153846153, 'mse = 0.0\\nsamples = 1\\nvalue = 7.713'),\n",
       " Text(487.7007874015748, 131.71846153846153, 'mse = 0.0\\nsamples = 1\\nvalue = 7.522'),\n",
       " Text(540.4251968503937, 219.5307692307692, 'X[1] <= 36149.0\\nmse = 0.557\\nsamples = 5\\nvalue = 6.595'),\n",
       " Text(527.2440944881889, 190.26, 'mse = 0.0\\nsamples = 1\\nvalue = 5.197'),\n",
       " Text(553.6062992125984, 190.26, 'X[0] <= 8.73\\nmse = 0.085\\nsamples = 4\\nvalue = 6.944'),\n",
       " Text(527.2440944881889, 160.98923076923077, 'X[1] <= 42500.0\\nmse = 0.0\\nsamples = 2\\nvalue = 6.676'),\n",
       " Text(514.0629921259842, 131.71846153846153, 'mse = 0.0\\nsamples = 1\\nvalue = 6.683'),\n",
       " Text(540.4251968503937, 131.71846153846153, 'mse = -0.0\\nsamples = 1\\nvalue = 6.668'),\n",
       " Text(579.9685039370079, 160.98923076923077, 'X[3] <= 0.5\\nmse = 0.026\\nsamples = 2\\nvalue = 7.213'),\n",
       " Text(566.7874015748031, 131.71846153846153, 'mse = 0.0\\nsamples = 1\\nvalue = 7.052'),\n",
       " Text(593.1496062992126, 131.71846153846153, 'mse = 0.0\\nsamples = 1\\nvalue = 7.373'),\n",
       " Text(619.511811023622, 248.80153846153846, 'X[3] <= 0.5\\nmse = 0.763\\nsamples = 5\\nvalue = 5.514'),\n",
       " Text(606.3307086614174, 219.5307692307692, 'X[0] <= 8.705\\nmse = 0.362\\nsamples = 4\\nvalue = 5.17'),\n",
       " Text(593.1496062992126, 190.26, 'mse = 0.0\\nsamples = 1\\nvalue = 6.19'),\n",
       " Text(619.511811023622, 190.26, 'X[1] <= 57241.5\\nmse = 0.021\\nsamples = 3\\nvalue = 4.83'),\n",
       " Text(606.3307086614174, 160.98923076923077, 'mse = 0.0\\nsamples = 1\\nvalue = 5.032'),\n",
       " Text(632.6929133858267, 160.98923076923077, 'X[0] <= 9.7\\nmse = 0.001\\nsamples = 2\\nvalue = 4.73'),\n",
       " Text(619.511811023622, 131.71846153846153, 'mse = 0.0\\nsamples = 1\\nvalue = 4.7'),\n",
       " Text(645.8740157480315, 131.71846153846153, 'mse = 0.0\\nsamples = 1\\nvalue = 4.759'),\n",
       " Text(632.6929133858267, 219.5307692307692, 'mse = 0.0\\nsamples = 1\\nvalue = 6.89'),\n",
       " Text(705.1889763779527, 278.0723076923077, 'X[1] <= 72500.0\\nmse = 0.844\\nsamples = 8\\nvalue = 8.107'),\n",
       " Text(692.007874015748, 248.80153846153846, 'X[1] <= 28329.5\\nmse = 0.363\\nsamples = 7\\nvalue = 8.381'),\n",
       " Text(659.0551181102362, 219.5307692307692, 'X[0] <= 12.82\\nmse = 0.466\\nsamples = 2\\nvalue = 7.905'),\n",
       " Text(645.8740157480315, 190.26, 'mse = 0.0\\nsamples = 1\\nvalue = 8.588'),\n",
       " Text(672.2362204724409, 190.26, 'mse = 0.0\\nsamples = 1\\nvalue = 7.222'),\n",
       " Text(724.9606299212599, 219.5307692307692, 'X[0] <= 12.6\\nmse = 0.195\\nsamples = 5\\nvalue = 8.572'),\n",
       " Text(698.5984251968504, 190.26, 'X[0] <= 11.195\\nmse = 0.068\\nsamples = 2\\nvalue = 8.108'),\n",
       " Text(685.4173228346457, 160.98923076923077, 'mse = 0.0\\nsamples = 1\\nvalue = 7.846'),\n",
       " Text(711.779527559055, 160.98923076923077, 'mse = 0.0\\nsamples = 1\\nvalue = 8.369'),\n",
       " Text(751.3228346456692, 190.26, 'X[0] <= 13.8\\nmse = 0.04\\nsamples = 3\\nvalue = 8.881'),\n",
       " Text(738.1417322834645, 160.98923076923077, 'mse = 0.0\\nsamples = 1\\nvalue = 9.162'),\n",
       " Text(764.503937007874, 160.98923076923077, 'X[0] <= 14.52\\nmse = 0.001\\nsamples = 2\\nvalue = 8.74'),\n",
       " Text(751.3228346456692, 131.71846153846153, 'mse = 0.0\\nsamples = 1\\nvalue = 8.773'),\n",
       " Text(777.6850393700787, 131.71846153846153, 'mse = 0.0\\nsamples = 1\\nvalue = 8.708'),\n",
       " Text(718.3700787401575, 248.80153846153846, 'mse = 0.0\\nsamples = 1\\nvalue = 6.189'),\n",
       " Text(784.275590551181, 307.3430769230769, 'X[0] <= 29.555\\nmse = 10.663\\nsamples = 4\\nvalue = 16.915'),\n",
       " Text(757.9133858267717, 278.0723076923077, 'X[4] <= 0.5\\nmse = 0.13\\nsamples = 2\\nvalue = 13.66'),\n",
       " Text(744.7322834645669, 248.80153846153846, 'mse = 0.0\\nsamples = 1\\nvalue = 14.021'),\n",
       " Text(771.0944881889764, 248.80153846153846, 'mse = 0.0\\nsamples = 1\\nvalue = 13.299'),\n",
       " Text(810.6377952755905, 278.0723076923077, 'X[1] <= 44000.0\\nmse = 0.004\\nsamples = 2\\nvalue = 20.17'),\n",
       " Text(797.4566929133858, 248.80153846153846, 'mse = 0.0\\nsamples = 1\\nvalue = 20.232'),\n",
       " Text(823.8188976377952, 248.80153846153846, 'mse = 0.0\\nsamples = 1\\nvalue = 20.108')]"
      ]
     },
     "execution_count": 66,
     "metadata": {},
     "output_type": "execute_result"
    },
    {
     "data": {
      "image/png": "[encoded data removed]",
      "text/plain": [
       "<Figure size 1080x504 with 1 Axes>"
      ]
     },
     "metadata": {
      "needs_background": "light"
     },
     "output_type": "display_data"
    }
   ],
   "source": [
    "df=dr.fit(x_test,y_pred)\n",
    "plt.figure(figsize=(15,7))\n",
    "plot_tree(df,filled=True)"
   ]
  },
  {
   "cell_type": "code",
   "execution_count": 67,
   "id": "2ee4fc06",
   "metadata": {},
   "outputs": [],
   "source": [
    "from sklearn.ensemble import RandomForestRegressor\n",
    "rf=RandomForestRegressor()\n",
    "rf.fit(x_train,y_train)\n",
    "y_pred=rf.predict(x_test)"
   ]
  },
  {
   "cell_type": "code",
   "execution_count": 68,
   "id": "5bc0938d",
   "metadata": {},
   "outputs": [
    {
     "data": {
      "text/plain": [
       "array([ 5.1534    ,  0.544     ,  4.546     ,  7.69875   , 14.2056    ,\n",
       "        4.923     ,  3.607     ,  0.39275   ,  4.574     ,  5.29808333,\n",
       "        2.807     ,  0.819     ,  4.6765    ,  7.856     ,  7.4015    ,\n",
       "       13.9921    ,  6.9955    ,  3.8185    ,  0.4909    ,  1.6415    ,\n",
       "        3.663     ,  4.809     ,  5.91686667,  9.6386    ,  0.2199    ,\n",
       "        0.5832    ,  0.2572    ,  0.704     ,  0.5355    ,  5.9745    ,\n",
       "        3.618     ,  5.756     ,  0.4927    ,  6.9205    ,  4.3725    ,\n",
       "        1.104     ,  6.0085    ,  4.7195    ,  0.2753    ,  8.9564    ,\n",
       "        7.6866    , 23.12      ,  4.881     ,  4.23366667,  5.881     ,\n",
       "       11.374     ,  0.3248    ,  0.7196    ,  4.8845    ,  6.34825   ,\n",
       "        9.1459    ,  3.0115    ,  4.77866667, 22.9815    ,  1.1591    ,\n",
       "        1.1221    ,  0.55815   ,  2.747     ,  3.319     ,  2.687     ,\n",
       "        5.456     ])"
      ]
     },
     "execution_count": 68,
     "metadata": {},
     "output_type": "execute_result"
    }
   ],
   "source": [
    "y_pred"
   ]
  },
  {
   "cell_type": "code",
   "execution_count": 69,
   "id": "a065eefd",
   "metadata": {},
   "outputs": [],
   "source": [
    "r_squared=r2_score(y_test,y_pred)"
   ]
  },
  {
   "cell_type": "code",
   "execution_count": 70,
   "id": "f1b7612e",
   "metadata": {},
   "outputs": [
    {
     "data": {
      "text/plain": [
       "0.9309511636214207"
      ]
     },
     "execution_count": 70,
     "metadata": {},
     "output_type": "execute_result"
    }
   ],
   "source": [
    "r_squared"
   ]
  },
  {
   "cell_type": "code",
   "execution_count": 71,
   "id": "07de8fc6",
   "metadata": {},
   "outputs": [
    {
     "data": {
      "text/plain": [
       "1.745369434048268"
      ]
     },
     "execution_count": 71,
     "metadata": {},
     "output_type": "execute_result"
    }
   ],
   "source": [
    "mse=mean_squared_error(y_test,y_pred)\n",
    "mse"
   ]
  },
  {
   "cell_type": "code",
   "execution_count": 78,
   "id": "bedbc9f6",
   "metadata": {},
   "outputs": [
    {
     "data": {
      "text/plain": [
       "array([[2.0140e+03, 3.3500e+00, 5.5900e+00, 2.7000e+04],\n",
       "       [2.0130e+03, 4.7500e+00, 9.5400e+00, 4.3000e+04],\n",
       "       [2.0170e+03, 7.2500e+00, 9.8500e+00, 6.9000e+03],\n",
       "       ...,\n",
       "       [2.0090e+03, 3.3500e+00, 1.1000e+01, 8.7934e+04],\n",
       "       [2.0170e+03, 1.1500e+01, 1.2500e+01, 9.0000e+03],\n",
       "       [2.0160e+03, 5.3000e+00, 5.9000e+00, 5.4640e+03]])"
      ]
     },
     "execution_count": 78,
     "metadata": {},
     "output_type": "execute_result"
    }
   ],
   "source": [
    "x=data.iloc[:,[1,2,3,4]].values\n",
    "x"
   ]
  },
  {
   "cell_type": "code",
   "execution_count": 72,
   "id": "d3feae86",
   "metadata": {},
   "outputs": [],
   "source": [
    "from sklearn.cluster import KMeans"
   ]
  },
  {
   "cell_type": "code",
   "execution_count": 73,
   "id": "7d40922f",
   "metadata": {},
   "outputs": [],
   "source": [
    "def elbowmethod(num_clusters,inertias):\n",
    "    plt.plot(num_clusters,inertias)\n",
    "    plt.show()"
   ]
  },
  {
   "cell_type": "code",
   "execution_count": 74,
   "id": "ca147cec",
   "metadata": {},
   "outputs": [
    {
     "data": {
      "image/png": "[encoded data removed]",
      "text/plain": [
       "<Figure size 432x288 with 1 Axes>"
      ]
     },
     "metadata": {
      "needs_background": "light"
     },
     "output_type": "display_data"
    }
   ],
   "source": [
    "inertias=[]\n",
    "clusters=range(1,11)\n",
    "for i in range(1,11):\n",
    "    kmeans=KMeans(n_clusters=i,max_iter=300,random_state=0)\n",
    "    kmeans.fit(x)\n",
    "    inertias.append(kmeans.inertia_)\n",
    "elbowmethod(clusters,inertias)"
   ]
  },
  {
   "cell_type": "code",
   "execution_count": 75,
   "id": "0f884d36",
   "metadata": {},
   "outputs": [
    {
     "data": {
      "text/plain": [
       "array([0, 2, 0, 0, 0, 0, 0, 0, 0, 0, 0, 2, 0, 0, 2, 2, 0, 2, 0, 0, 0, 0,\n",
       "       2, 2, 2, 0, 2, 0, 2, 2, 2, 2, 0, 2, 2, 2, 2, 2, 0, 2, 0, 2, 2, 2,\n",
       "       2, 0, 2, 2, 0, 0, 2, 0, 0, 2, 2, 2, 0, 2, 0, 0, 0, 0, 2, 2, 0, 2,\n",
       "       0, 2, 2, 0, 2, 2, 2, 2, 2, 0, 2, 2, 2, 2, 0, 0, 0, 0, 2, 2, 2, 2,\n",
       "       2, 0, 2, 2, 2, 0, 2, 2, 0, 0, 2, 2, 0, 0, 0, 0, 0, 0, 0, 0, 0, 0,\n",
       "       0, 0, 0, 0, 0, 0, 0, 0, 0, 0, 0, 0, 0, 2, 0, 0, 0, 0, 0, 0, 0, 0,\n",
       "       0, 0, 0, 0, 0, 0, 0, 0, 0, 0, 0, 0, 0, 0, 0, 2, 2, 0, 0, 0, 0, 2,\n",
       "       0, 0, 0, 0, 0, 0, 0, 0, 0, 0, 0, 0, 0, 0, 0, 0, 0, 0, 0, 0, 0, 2,\n",
       "       0, 0, 0, 2, 2, 2, 0, 0, 0, 0, 0, 0, 0, 2, 2, 0, 2, 0, 2, 0, 1, 0,\n",
       "       0, 2, 2, 2, 0, 2, 0, 0, 0, 0, 0, 0, 0, 2, 0, 0, 0, 0, 0, 0, 2, 0,\n",
       "       0, 0, 2, 2, 0, 0, 0, 2, 2, 2, 2, 0, 0, 2, 0, 0, 0, 2, 2, 0, 0, 0,\n",
       "       0, 0, 2, 2, 0, 0, 0, 0, 0, 2, 0, 2, 2, 2, 2, 0, 0, 0, 0, 0, 0, 0,\n",
       "       0, 0, 0, 0, 0, 0, 2, 2, 0, 2, 0, 0, 0, 0, 0, 0, 0, 2, 2, 0, 0, 0,\n",
       "       0, 2, 0, 0, 0, 0, 0, 0, 0, 2, 0, 2, 2, 0, 0])"
      ]
     },
     "execution_count": 75,
     "metadata": {},
     "output_type": "execute_result"
    }
   ],
   "source": [
    "kmeans=KMeans(n_clusters=3,max_iter=300,random_state=0)\n",
    "y_kmeans=kmeans.fit_predict(x)\n",
    "y_kmeans"
   ]
  },
  {
   "cell_type": "code",
   "execution_count": 83,
   "id": "b94c5d3d",
   "metadata": {},
   "outputs": [
    {
     "data": {
      "image/png": "[encoded data removed]",
      "text/plain": [
       "<Figure size 720x576 with 1 Axes>"
      ]
     },
     "metadata": {
      "needs_background": "light"
     },
     "output_type": "display_data"
    }
   ],
   "source": [
    "plt.figure(figsize=(10,8))\n",
    "plt.scatter(x[y_kmeans==0,0],x[y_kmeans==0,1],c='red',label='Dealer')\n",
    "plt.scatter(x[y_kmeans==1,0],x[y_kmeans==1,1],c='blue',label='Individual')\n",
    "plt.scatter(kmeans.cluster_centers_[:,0],kmeans.cluster_centers_[:,1],c='yellow',label='Centroid')\n",
    "plt.legend()\n",
    "plt.show()"
   ]
  },
  {
   "cell_type": "code",
   "execution_count": 85,
   "id": "74a47e1f",
   "metadata": {},
   "outputs": [
    {
     "data": {
      "image/png": "[encoded data removed]",
      "text/plain": [
       "<Figure size 720x576 with 1 Axes>"
      ]
     },
     "metadata": {
      "needs_background": "light"
     },
     "output_type": "display_data"
    }
   ],
   "source": [
    "plt.figure(figsize=(10,8))\n",
    "plt.scatter(x[y_kmeans==0,0],x[y_kmeans==0,1],c='red',label='Petrol')\n",
    "plt.scatter(x[y_kmeans==1,0],x[y_kmeans==1,1],c='blue',label='Diesel')\n",
    "plt.scatter(x[y_kmeans==2,1],x[y_kmeans==2,0],c='green',label='CNG')\n",
    "plt.scatter(kmeans.cluster_centers_[:,0],kmeans.cluster_centers_[:,1],c='yellow',label='Centroid')\n",
    "plt.legend()\n",
    "plt.show()"
   ]
  },
  {
   "cell_type": "code",
   "execution_count": null,
   "id": "7eb1f92f",
   "metadata": {},
   "outputs": [],
   "source": []
  }
 ],
 "metadata": {
  "kernelspec": {
   "display_name": "Python 3 (ipykernel)",
   "language": "python",
   "name": "python3"
  },
  "language_info": {
   "codemirror_mode": {
    "name": "ipython",
    "version": 3
   },
   "file_extension": ".py",
   "mimetype": "text/x-python",
   "name": "python",
   "nbconvert_exporter": "python",
   "pygments_lexer": "ipython3",
   "version": "3.8.8"
  }
 },
 "nbformat": 4,
 "nbformat_minor": 5
}
